{
 "cells": [
  {
   "cell_type": "markdown",
   "id": "593310aa",
   "metadata": {},
   "source": [
    "We study the changes in the number of candidate nodes that are obtained when the parameters are varied"
   ]
  },
  {
   "cell_type": "markdown",
   "id": "60315711",
   "metadata": {},
   "source": [
    "### Loading Data"
   ]
  },
  {
   "cell_type": "code",
   "execution_count": 1,
   "id": "a225ed64",
   "metadata": {},
   "outputs": [
    {
     "name": "stderr",
     "output_type": "stream",
     "text": [
      "reading tree\n",
      "\n",
      "importing quantifications\n",
      "\n",
      "reading in files with read_tsv\n",
      "\n",
      "1 \n",
      "2 \n",
      "3 \n",
      "4 \n",
      "5 \n",
      "6 \n",
      "7 \n",
      "8 \n",
      "9 \n",
      "10 \n",
      "11 \n",
      "12 \n",
      "\n",
      "\n",
      "found matching transcriptome:\n",
      "[ GENCODE - Mus musculus - release M25 ]\n",
      "\n",
      "loading existing TxDb created: 2023-02-17 18:26:37\n",
      "\n",
      "Loading required package: GenomicFeatures\n",
      "\n",
      "Loading required package: AnnotationDbi\n",
      "\n",
      "\n",
      "Attaching package: 'AnnotationDbi'\n",
      "\n",
      "\n",
      "The following object is masked from 'package:dplyr':\n",
      "\n",
      "    select\n",
      "\n",
      "\n",
      "loading existing transcript ranges created: 2023-02-17 18:26:39\n",
      "\n",
      "fetching genome info for GENCODE\n",
      "\n",
      "Missing txps 2380\n",
      "\n",
      "Aggregation Started\n",
      "\n",
      "Aggregation Ended\n",
      "\n"
     ]
    }
   ],
   "source": [
    "suppressPackageStartupMessages(source(\"../tree_helper.R\"))\n",
    "suppressPackageStartupMessages(library(TreeSummarizedExperiment))\n",
    "suppressPackageStartupMessages(library(phangorn))\n",
    "suppressPackageStartupMessages(library(tidyverse))\n",
    "suppressPackageStartupMessages(library(ggplot2))\n",
    "suppressPackageStartupMessages(library(ggpubr))\n",
    "\n",
    "metaData <- read.delim(\"/fs/cbcb-lab/rob/students/noor/Uncertainity/real_datasets/GSE100505_EDL_MAST/SRR_Acc_List.txt\")\n",
    "quantDir <- \"/fs/cbcb-lab/rob/students/noor/Uncertainity/real_datasets/GSE100505_EDL_MAST/sal_out/mode_gcbias=True/posttype=gibbs_npost=100_tf=100\"\n",
    "samples <- metaData$RUN\n",
    "files <- file.path(quantDir, samples, \"quant.sf\")\n",
    "colData <- cbind(data.frame(files = files, names = samples), condition = as.factor(metaData$TissueName))\n",
    "\n",
    "saveDir <- \"../environment/mouseMuscle\"\n",
    "clustFile <- \"/fs/cbcb-lab/rob/students/noor/Uncertainity/real_datasets/GSE100505_EDL_MAST/term_out/mode_gcbias=True/posttype=gibbs_npost=100_tf=100/no_threshold0/cluster_nwk.txt\"\n",
    "\n",
    "tseCons <- beaveR::buildTSE(treeTermFile = clustFile, coldata = colData)\n",
    "treeCons <- rowTree(tseCons)\n",
    "l <- length(treeCons$tip)"
   ]
  },
  {
   "cell_type": "markdown",
   "id": "5cb74177",
   "metadata": {},
   "source": [
    "#### Loading trenDi data with default parameters"
   ]
  },
  {
   "cell_type": "code",
   "execution_count": 2,
   "id": "22dcf801",
   "metadata": {},
   "outputs": [
    {
     "data": {
      "text/html": [
       "<style>\n",
       ".list-inline {list-style: none; margin:0; padding: 0}\n",
       ".list-inline>li {display: inline-block}\n",
       ".list-inline>li:not(:last-child)::after {content: \"\\00b7\"; padding: 0 .5ex}\n",
       "</style>\n",
       "<ol class=list-inline><li>3711</li><li>7693</li><li>10458</li></ol>\n"
      ],
      "text/latex": [
       "\\begin{enumerate*}\n",
       "\\item 3711\n",
       "\\item 7693\n",
       "\\item 10458\n",
       "\\end{enumerate*}\n"
      ],
      "text/markdown": [
       "1. 3711\n",
       "2. 7693\n",
       "3. 10458\n",
       "\n",
       "\n"
      ],
      "text/plain": [
       "[1]  3711  7693 10458"
      ]
     },
     "metadata": {},
     "output_type": "display_data"
    },
    {
     "data": {
      "text/html": [
       "<style>\n",
       ".list-inline {list-style: none; margin:0; padding: 0}\n",
       ".list-inline>li {display: inline-block}\n",
       ".list-inline>li:not(:last-child)::after {content: \"\\00b7\"; padding: 0 .5ex}\n",
       "</style>\n",
       "<ol class=list-inline><li>5951</li><li>11907</li><li>15878</li></ol>\n"
      ],
      "text/latex": [
       "\\begin{enumerate*}\n",
       "\\item 5951\n",
       "\\item 11907\n",
       "\\item 15878\n",
       "\\end{enumerate*}\n"
      ],
      "text/markdown": [
       "1. 5951\n",
       "2. 11907\n",
       "3. 15878\n",
       "\n",
       "\n"
      ],
      "text/plain": [
       "[1]  5951 11907 15878"
      ]
     },
     "metadata": {},
     "output_type": "display_data"
    }
   ],
   "source": [
    "load(file.path(saveDir, \"trenDiRes.RData\"))\n",
    "defaultNodes <- lapply(trenDiRes, function(x) x[[\"candNodes\"]])\n",
    "sapply(defaultNodes, length)\n",
    "defaultTxps <- sapply(defaultNodes, function(x) unlist(Descendants(treeCons, x)))\n",
    "sapply(defaultTxps, length)"
   ]
  },
  {
   "cell_type": "markdown",
   "id": "9810de84",
   "metadata": {},
   "source": [
    "#### Loading trenDi results with changing parameters"
   ]
  },
  {
   "cell_type": "code",
   "execution_count": 3,
   "id": "c5e1c40e",
   "metadata": {},
   "outputs": [
    {
     "data": {
      "text/html": [
       "16"
      ],
      "text/latex": [
       "16"
      ],
      "text/markdown": [
       "16"
      ],
      "text/plain": [
       "[1] 16"
      ]
     },
     "metadata": {},
     "output_type": "display_data"
    }
   ],
   "source": [
    "load(file.path(saveDir, \"trenDiResPar.RData\"))\n",
    "length(trenDiResPar)"
   ]
  },
  {
   "cell_type": "markdown",
   "id": "43ddfd33",
   "metadata": {},
   "source": [
    "##### Extracting nodes"
   ]
  },
  {
   "cell_type": "code",
   "execution_count": 6,
   "id": "ca7a98ef",
   "metadata": {},
   "outputs": [],
   "source": [
    "minPNodes <- lapply(trenDiResPar[1:6], function(x) {\n",
    "    nodes <- lapply(x, function(nn) nn[[\"candNodes\"]])\n",
    "})\n",
    "minPTxps <- lapply(minPNodes, function(nn) {\n",
    "    ll <- lapply(nn, function(x) unlist(Descendants(treeCons, x)))\n",
    "    ll\n",
    "})\n",
    "mirvNodes <- lapply(trenDiResPar[c(7,9,11:16)], function(x) {\n",
    "    nodes <- lapply(x, function(nn) nn[[\"candNodes\"]])\n",
    "})\n",
    "mirvTxps <- lapply(mirvNodes, function(nn) {\n",
    "    ll <- lapply(nn, function(x) unlist(Descendants(treeCons, x)))\n",
    "    ll\n",
    "})"
   ]
  },
  {
   "cell_type": "code",
   "execution_count": 7,
   "id": "91d9fcdc",
   "metadata": {},
   "outputs": [
    {
     "data": {
      "text/html": [
       "<table class=\"dataframe\">\n",
       "<caption>A matrix: 3 × 6 of type int</caption>\n",
       "<thead>\n",
       "\t<tr><th scope=col>minP=0.6</th><th scope=col>minP=0.65</th><th scope=col>minP=0.75</th><th scope=col>minP=0.8</th><th scope=col>minP=0.85</th><th scope=col>minP=0.9</th></tr>\n",
       "</thead>\n",
       "<tbody>\n",
       "\t<tr><td> 3681</td><td> 3697</td><td> 3724</td><td> 3732</td><td> 3742</td><td> 3752</td></tr>\n",
       "\t<tr><td> 7665</td><td> 7686</td><td> 7707</td><td> 7713</td><td> 7716</td><td> 7718</td></tr>\n",
       "\t<tr><td>10432</td><td>10445</td><td>10459</td><td>10471</td><td>10475</td><td>10469</td></tr>\n",
       "</tbody>\n",
       "</table>\n"
      ],
      "text/latex": [
       "A matrix: 3 × 6 of type int\n",
       "\\begin{tabular}{llllll}\n",
       " minP=0.6 & minP=0.65 & minP=0.75 & minP=0.8 & minP=0.85 & minP=0.9\\\\\n",
       "\\hline\n",
       "\t  3681 &  3697 &  3724 &  3732 &  3742 &  3752\\\\\n",
       "\t  7665 &  7686 &  7707 &  7713 &  7716 &  7718\\\\\n",
       "\t 10432 & 10445 & 10459 & 10471 & 10475 & 10469\\\\\n",
       "\\end{tabular}\n"
      ],
      "text/markdown": [
       "\n",
       "A matrix: 3 × 6 of type int\n",
       "\n",
       "| minP=0.6 | minP=0.65 | minP=0.75 | minP=0.8 | minP=0.85 | minP=0.9 |\n",
       "|---|---|---|---|---|---|\n",
       "|  3681 |  3697 |  3724 |  3732 |  3742 |  3752 |\n",
       "|  7665 |  7686 |  7707 |  7713 |  7716 |  7718 |\n",
       "| 10432 | 10445 | 10459 | 10471 | 10475 | 10469 |\n",
       "\n"
      ],
      "text/plain": [
       "     minP=0.6 minP=0.65 minP=0.75 minP=0.8 minP=0.85 minP=0.9\n",
       "[1,]  3681     3697      3724      3732     3742      3752   \n",
       "[2,]  7665     7686      7707      7713     7716      7718   \n",
       "[3,] 10432    10445     10459     10471    10475     10469   "
      ]
     },
     "metadata": {},
     "output_type": "display_data"
    },
    {
     "data": {
      "text/html": [
       "<table class=\"dataframe\">\n",
       "<caption>A matrix: 3 × 8 of type int</caption>\n",
       "<thead>\n",
       "\t<tr><th scope=col>mirvThresh=0.2</th><th scope=col>mirvThresh=0.3</th><th scope=col>mirvThresh=0.5</th><th scope=col>mirvThresh=0.6</th><th scope=col>mirvThresh=0.7</th><th scope=col>mirvThresh=0.8</th><th scope=col>mirvThresh=0.9</th><th scope=col>mirvThresh=1</th></tr>\n",
       "</thead>\n",
       "<tbody>\n",
       "\t<tr><td> 3738</td><td> 3713</td><td> 3695</td><td> 3683</td><td> 3666</td><td> 3644</td><td> 3629</td><td> 3620</td></tr>\n",
       "\t<tr><td> 7710</td><td> 7694</td><td> 7673</td><td> 7651</td><td> 7635</td><td> 7615</td><td> 7609</td><td> 7597</td></tr>\n",
       "\t<tr><td>10440</td><td>10454</td><td>10446</td><td>10437</td><td>10424</td><td>10418</td><td>10408</td><td>10393</td></tr>\n",
       "</tbody>\n",
       "</table>\n"
      ],
      "text/latex": [
       "A matrix: 3 × 8 of type int\n",
       "\\begin{tabular}{llllllll}\n",
       " mirvThresh=0.2 & mirvThresh=0.3 & mirvThresh=0.5 & mirvThresh=0.6 & mirvThresh=0.7 & mirvThresh=0.8 & mirvThresh=0.9 & mirvThresh=1\\\\\n",
       "\\hline\n",
       "\t  3738 &  3713 &  3695 &  3683 &  3666 &  3644 &  3629 &  3620\\\\\n",
       "\t  7710 &  7694 &  7673 &  7651 &  7635 &  7615 &  7609 &  7597\\\\\n",
       "\t 10440 & 10454 & 10446 & 10437 & 10424 & 10418 & 10408 & 10393\\\\\n",
       "\\end{tabular}\n"
      ],
      "text/markdown": [
       "\n",
       "A matrix: 3 × 8 of type int\n",
       "\n",
       "| mirvThresh=0.2 | mirvThresh=0.3 | mirvThresh=0.5 | mirvThresh=0.6 | mirvThresh=0.7 | mirvThresh=0.8 | mirvThresh=0.9 | mirvThresh=1 |\n",
       "|---|---|---|---|---|---|---|---|\n",
       "|  3738 |  3713 |  3695 |  3683 |  3666 |  3644 |  3629 |  3620 |\n",
       "|  7710 |  7694 |  7673 |  7651 |  7635 |  7615 |  7609 |  7597 |\n",
       "| 10440 | 10454 | 10446 | 10437 | 10424 | 10418 | 10408 | 10393 |\n",
       "\n"
      ],
      "text/plain": [
       "     mirvThresh=0.2 mirvThresh=0.3 mirvThresh=0.5 mirvThresh=0.6 mirvThresh=0.7\n",
       "[1,]  3738           3713           3695           3683           3666         \n",
       "[2,]  7710           7694           7673           7651           7635         \n",
       "[3,] 10440          10454          10446          10437          10424         \n",
       "     mirvThresh=0.8 mirvThresh=0.9 mirvThresh=1\n",
       "[1,]  3644           3629           3620       \n",
       "[2,]  7615           7609           7597       \n",
       "[3,] 10418          10408          10393       "
      ]
     },
     "metadata": {},
     "output_type": "display_data"
    },
    {
     "data": {
      "text/html": [
       "<style>\n",
       ".list-inline {list-style: none; margin:0; padding: 0}\n",
       ".list-inline>li {display: inline-block}\n",
       ".list-inline>li:not(:last-child)::after {content: \"\\00b7\"; padding: 0 .5ex}\n",
       "</style>\n",
       "<ol class=list-inline><li>3721.33333333333</li><li>7700.83333333333</li><li>10458.5</li></ol>\n"
      ],
      "text/latex": [
       "\\begin{enumerate*}\n",
       "\\item 3721.33333333333\n",
       "\\item 7700.83333333333\n",
       "\\item 10458.5\n",
       "\\end{enumerate*}\n"
      ],
      "text/markdown": [
       "1. 3721.33333333333\n",
       "2. 7700.83333333333\n",
       "3. 10458.5\n",
       "\n",
       "\n"
      ],
      "text/plain": [
       "[1]  3721.333  7700.833 10458.500"
      ]
     },
     "metadata": {},
     "output_type": "display_data"
    },
    {
     "data": {
      "text/html": [
       "<style>\n",
       ".list-inline {list-style: none; margin:0; padding: 0}\n",
       ".list-inline>li {display: inline-block}\n",
       ".list-inline>li:not(:last-child)::after {content: \"\\00b7\"; padding: 0 .5ex}\n",
       "</style>\n",
       "<ol class=list-inline><li>27.2298855426656</li><li>21.0467733077226</li><li>16.873055443517</li></ol>\n"
      ],
      "text/latex": [
       "\\begin{enumerate*}\n",
       "\\item 27.2298855426656\n",
       "\\item 21.0467733077226\n",
       "\\item 16.873055443517\n",
       "\\end{enumerate*}\n"
      ],
      "text/markdown": [
       "1. 27.2298855426656\n",
       "2. 21.0467733077226\n",
       "3. 16.873055443517\n",
       "\n",
       "\n"
      ],
      "text/plain": [
       "[1] 27.22989 21.04677 16.87306"
      ]
     },
     "metadata": {},
     "output_type": "display_data"
    },
    {
     "data": {
      "text/html": [
       "<style>\n",
       ".list-inline {list-style: none; margin:0; padding: 0}\n",
       ".list-inline>li {display: inline-block}\n",
       ".list-inline>li:not(:last-child)::after {content: \"\\00b7\"; padding: 0 .5ex}\n",
       "</style>\n",
       "<ol class=list-inline><li>3673.5</li><li>7648</li><li>10427.5</li></ol>\n"
      ],
      "text/latex": [
       "\\begin{enumerate*}\n",
       "\\item 3673.5\n",
       "\\item 7648\n",
       "\\item 10427.5\n",
       "\\end{enumerate*}\n"
      ],
      "text/markdown": [
       "1. 3673.5\n",
       "2. 7648\n",
       "3. 10427.5\n",
       "\n",
       "\n"
      ],
      "text/plain": [
       "[1]  3673.5  7648.0 10427.5"
      ]
     },
     "metadata": {},
     "output_type": "display_data"
    },
    {
     "data": {
      "text/html": [
       "<style>\n",
       ".list-inline {list-style: none; margin:0; padding: 0}\n",
       ".list-inline>li {display: inline-block}\n",
       ".list-inline>li:not(:last-child)::after {content: \"\\00b7\"; padding: 0 .5ex}\n",
       "</style>\n",
       "<ol class=list-inline><li>41.4763271552064</li><li>41.3590549767693</li><li>20.5773800914638</li></ol>\n"
      ],
      "text/latex": [
       "\\begin{enumerate*}\n",
       "\\item 41.4763271552064\n",
       "\\item 41.3590549767693\n",
       "\\item 20.5773800914638\n",
       "\\end{enumerate*}\n"
      ],
      "text/markdown": [
       "1. 41.4763271552064\n",
       "2. 41.3590549767693\n",
       "3. 20.5773800914638\n",
       "\n",
       "\n"
      ],
      "text/plain": [
       "[1] 41.47633 41.35905 20.57738"
      ]
     },
     "metadata": {},
     "output_type": "display_data"
    }
   ],
   "source": [
    "sapply(minPNodes, function(x) {\n",
    "    ll <- sapply(x, length)\n",
    "})\n",
    "sapply(mirvNodes, function(x) {\n",
    "    ll <- sapply(x, length)\n",
    "})\n",
    "rowMeans(sapply(minPNodes, function(x) {\n",
    "    ll <- sapply(x, length)\n",
    "}))\n",
    "rowSds(sapply(minPNodes, function(x) {\n",
    "    ll <- sapply(x, length)\n",
    "}))\n",
    "rowMeans(sapply(mirvNodes, function(x) {\n",
    "    ll <- sapply(x, length)\n",
    "}))\n",
    "rowSds(sapply(mirvNodes, function(x) {\n",
    "    ll <- sapply(x, length)\n",
    "}))"
   ]
  },
  {
   "cell_type": "markdown",
   "id": "4fee39b4",
   "metadata": {},
   "source": [
    "#### Finding intersection"
   ]
  },
  {
   "cell_type": "markdown",
   "id": "0d188522",
   "metadata": {},
   "source": [
    "##### Nodes"
   ]
  },
  {
   "cell_type": "code",
   "execution_count": 6,
   "id": "989840ed",
   "metadata": {},
   "outputs": [
    {
     "data": {
      "text/html": [
       "<style>\n",
       ".list-inline {list-style: none; margin:0; padding: 0}\n",
       ".list-inline>li {display: inline-block}\n",
       ".list-inline>li:not(:last-child)::after {content: \"\\00b7\"; padding: 0 .5ex}\n",
       "</style>\n",
       "<ol class=list-inline><li>3711</li><li>7693</li><li>10458</li></ol>\n"
      ],
      "text/latex": [
       "\\begin{enumerate*}\n",
       "\\item 3711\n",
       "\\item 7693\n",
       "\\item 10458\n",
       "\\end{enumerate*}\n"
      ],
      "text/markdown": [
       "1. 3711\n",
       "2. 7693\n",
       "3. 10458\n",
       "\n",
       "\n"
      ],
      "text/plain": [
       "[1]  3711  7693 10458"
      ]
     },
     "metadata": {},
     "output_type": "display_data"
    },
    {
     "data": {
      "text/html": [
       "<table class=\"dataframe\">\n",
       "<caption>A matrix: 3 × 6 of type int</caption>\n",
       "<thead>\n",
       "\t<tr><th scope=col>minP=0.6</th><th scope=col>minP=0.65</th><th scope=col>minP=0.75</th><th scope=col>minP=0.8</th><th scope=col>minP=0.85</th><th scope=col>minP=0.9</th></tr>\n",
       "</thead>\n",
       "<tbody>\n",
       "\t<tr><td> 3625</td><td> 3667</td><td> 3691</td><td> 3672</td><td> 3654</td><td> 3632</td></tr>\n",
       "\t<tr><td> 7520</td><td> 7610</td><td> 7620</td><td> 7566</td><td> 7510</td><td> 7438</td></tr>\n",
       "\t<tr><td>10209</td><td>10339</td><td>10346</td><td>10269</td><td>10186</td><td>10086</td></tr>\n",
       "</tbody>\n",
       "</table>\n"
      ],
      "text/latex": [
       "A matrix: 3 × 6 of type int\n",
       "\\begin{tabular}{llllll}\n",
       " minP=0.6 & minP=0.65 & minP=0.75 & minP=0.8 & minP=0.85 & minP=0.9\\\\\n",
       "\\hline\n",
       "\t  3625 &  3667 &  3691 &  3672 &  3654 &  3632\\\\\n",
       "\t  7520 &  7610 &  7620 &  7566 &  7510 &  7438\\\\\n",
       "\t 10209 & 10339 & 10346 & 10269 & 10186 & 10086\\\\\n",
       "\\end{tabular}\n"
      ],
      "text/markdown": [
       "\n",
       "A matrix: 3 × 6 of type int\n",
       "\n",
       "| minP=0.6 | minP=0.65 | minP=0.75 | minP=0.8 | minP=0.85 | minP=0.9 |\n",
       "|---|---|---|---|---|---|\n",
       "|  3625 |  3667 |  3691 |  3672 |  3654 |  3632 |\n",
       "|  7520 |  7610 |  7620 |  7566 |  7510 |  7438 |\n",
       "| 10209 | 10339 | 10346 | 10269 | 10186 | 10086 |\n",
       "\n"
      ],
      "text/plain": [
       "     minP=0.6 minP=0.65 minP=0.75 minP=0.8 minP=0.85 minP=0.9\n",
       "[1,]  3625     3667      3691      3672     3654      3632   \n",
       "[2,]  7520     7610      7620      7566     7510      7438   \n",
       "[3,] 10209    10339     10346     10269    10186     10086   "
      ]
     },
     "metadata": {},
     "output_type": "display_data"
    },
    {
     "data": {
      "text/html": [
       "<table class=\"dataframe\">\n",
       "<caption>A matrix: 3 × 10 of type int</caption>\n",
       "<thead>\n",
       "\t<tr><th scope=col>mirvThresh=0.2</th><th scope=col>mirvThresh=0.25</th><th scope=col>mirvThresh=0.3</th><th scope=col>mirvThresh=0.35</th><th scope=col>mirvThresh=0.5</th><th scope=col>mirvThresh=0.6</th><th scope=col>mirvThresh=0.7</th><th scope=col>mirvThresh=0.8</th><th scope=col>mirvThresh=0.9</th><th scope=col>mirvThresh=1</th></tr>\n",
       "</thead>\n",
       "<tbody>\n",
       "\t<tr><td>3239</td><td>3395</td><td>3517</td><td> 3634</td><td> 3568</td><td>3471</td><td>3395</td><td>3335</td><td>3288</td><td>3247</td></tr>\n",
       "\t<tr><td>6806</td><td>7103</td><td>7332</td><td> 7533</td><td> 7428</td><td>7248</td><td>7097</td><td>6976</td><td>6887</td><td>6811</td></tr>\n",
       "\t<tr><td>9306</td><td>9690</td><td>9991</td><td>10243</td><td>10114</td><td>9885</td><td>9701</td><td>9552</td><td>9438</td><td>9332</td></tr>\n",
       "</tbody>\n",
       "</table>\n"
      ],
      "text/latex": [
       "A matrix: 3 × 10 of type int\n",
       "\\begin{tabular}{llllllllll}\n",
       " mirvThresh=0.2 & mirvThresh=0.25 & mirvThresh=0.3 & mirvThresh=0.35 & mirvThresh=0.5 & mirvThresh=0.6 & mirvThresh=0.7 & mirvThresh=0.8 & mirvThresh=0.9 & mirvThresh=1\\\\\n",
       "\\hline\n",
       "\t 3239 & 3395 & 3517 &  3634 &  3568 & 3471 & 3395 & 3335 & 3288 & 3247\\\\\n",
       "\t 6806 & 7103 & 7332 &  7533 &  7428 & 7248 & 7097 & 6976 & 6887 & 6811\\\\\n",
       "\t 9306 & 9690 & 9991 & 10243 & 10114 & 9885 & 9701 & 9552 & 9438 & 9332\\\\\n",
       "\\end{tabular}\n"
      ],
      "text/markdown": [
       "\n",
       "A matrix: 3 × 10 of type int\n",
       "\n",
       "| mirvThresh=0.2 | mirvThresh=0.25 | mirvThresh=0.3 | mirvThresh=0.35 | mirvThresh=0.5 | mirvThresh=0.6 | mirvThresh=0.7 | mirvThresh=0.8 | mirvThresh=0.9 | mirvThresh=1 |\n",
       "|---|---|---|---|---|---|---|---|---|---|\n",
       "| 3239 | 3395 | 3517 |  3634 |  3568 | 3471 | 3395 | 3335 | 3288 | 3247 |\n",
       "| 6806 | 7103 | 7332 |  7533 |  7428 | 7248 | 7097 | 6976 | 6887 | 6811 |\n",
       "| 9306 | 9690 | 9991 | 10243 | 10114 | 9885 | 9701 | 9552 | 9438 | 9332 |\n",
       "\n"
      ],
      "text/plain": [
       "     mirvThresh=0.2 mirvThresh=0.25 mirvThresh=0.3 mirvThresh=0.35\n",
       "[1,] 3239           3395            3517            3634          \n",
       "[2,] 6806           7103            7332            7533          \n",
       "[3,] 9306           9690            9991           10243          \n",
       "     mirvThresh=0.5 mirvThresh=0.6 mirvThresh=0.7 mirvThresh=0.8 mirvThresh=0.9\n",
       "[1,]  3568          3471           3395           3335           3288          \n",
       "[2,]  7428          7248           7097           6976           6887          \n",
       "[3,] 10114          9885           9701           9552           9438          \n",
       "     mirvThresh=1\n",
       "[1,] 3247        \n",
       "[2,] 6811        \n",
       "[3,] 9332        "
      ]
     },
     "metadata": {},
     "output_type": "display_data"
    }
   ],
   "source": [
    "sapply(defaultNodes, length)\n",
    "sapply(minPNodes, function(minP) {\n",
    "    mapply(function(x,y) length(intersect(x,y)), minP, defaultNodes)\n",
    "})\n",
    "sapply(mirvNodes, function(minP) {\n",
    "    mapply(function(x,y) length(intersect(x,y)), minP, defaultNodes)\n",
    "})\n"
   ]
  },
  {
   "cell_type": "markdown",
   "id": "8babd0a1",
   "metadata": {},
   "source": [
    "##### Txps"
   ]
  },
  {
   "cell_type": "code",
   "execution_count": 7,
   "id": "12a95301",
   "metadata": {},
   "outputs": [
    {
     "data": {
      "text/html": [
       "<style>\n",
       ".list-inline {list-style: none; margin:0; padding: 0}\n",
       ".list-inline>li {display: inline-block}\n",
       ".list-inline>li:not(:last-child)::after {content: \"\\00b7\"; padding: 0 .5ex}\n",
       "</style>\n",
       "<ol class=list-inline><li>5951</li><li>11907</li><li>15878</li></ol>\n"
      ],
      "text/latex": [
       "\\begin{enumerate*}\n",
       "\\item 5951\n",
       "\\item 11907\n",
       "\\item 15878\n",
       "\\end{enumerate*}\n"
      ],
      "text/markdown": [
       "1. 5951\n",
       "2. 11907\n",
       "3. 15878\n",
       "\n",
       "\n"
      ],
      "text/plain": [
       "[1]  5951 11907 15878"
      ]
     },
     "metadata": {},
     "output_type": "display_data"
    },
    {
     "data": {
      "text/html": [
       "<table class=\"dataframe\">\n",
       "<caption>A matrix: 3 × 6 of type int</caption>\n",
       "<thead>\n",
       "\t<tr><th scope=col>minP=0.6</th><th scope=col>minP=0.65</th><th scope=col>minP=0.75</th><th scope=col>minP=0.8</th><th scope=col>minP=0.85</th><th scope=col>minP=0.9</th></tr>\n",
       "</thead>\n",
       "<tbody>\n",
       "\t<tr><td> 5733</td><td> 5843</td><td> 5951</td><td> 5951</td><td> 5951</td><td> 5951</td></tr>\n",
       "\t<tr><td>11523</td><td>11732</td><td>11907</td><td>11907</td><td>11907</td><td>11907</td></tr>\n",
       "\t<tr><td>15309</td><td>15608</td><td>15878</td><td>15878</td><td>15878</td><td>15878</td></tr>\n",
       "</tbody>\n",
       "</table>\n"
      ],
      "text/latex": [
       "A matrix: 3 × 6 of type int\n",
       "\\begin{tabular}{llllll}\n",
       " minP=0.6 & minP=0.65 & minP=0.75 & minP=0.8 & minP=0.85 & minP=0.9\\\\\n",
       "\\hline\n",
       "\t  5733 &  5843 &  5951 &  5951 &  5951 &  5951\\\\\n",
       "\t 11523 & 11732 & 11907 & 11907 & 11907 & 11907\\\\\n",
       "\t 15309 & 15608 & 15878 & 15878 & 15878 & 15878\\\\\n",
       "\\end{tabular}\n"
      ],
      "text/markdown": [
       "\n",
       "A matrix: 3 × 6 of type int\n",
       "\n",
       "| minP=0.6 | minP=0.65 | minP=0.75 | minP=0.8 | minP=0.85 | minP=0.9 |\n",
       "|---|---|---|---|---|---|\n",
       "|  5733 |  5843 |  5951 |  5951 |  5951 |  5951 |\n",
       "| 11523 | 11732 | 11907 | 11907 | 11907 | 11907 |\n",
       "| 15309 | 15608 | 15878 | 15878 | 15878 | 15878 |\n",
       "\n"
      ],
      "text/plain": [
       "     minP=0.6 minP=0.65 minP=0.75 minP=0.8 minP=0.85 minP=0.9\n",
       "[1,]  5733     5843      5951      5951     5951      5951   \n",
       "[2,] 11523    11732     11907     11907    11907     11907   \n",
       "[3,] 15309    15608     15878     15878    15878     15878   "
      ]
     },
     "metadata": {},
     "output_type": "display_data"
    },
    {
     "data": {
      "text/html": [
       "<table class=\"dataframe\">\n",
       "<caption>A matrix: 3 × 10 of type int</caption>\n",
       "<thead>\n",
       "\t<tr><th scope=col>mirvThresh=0.2</th><th scope=col>mirvThresh=0.25</th><th scope=col>mirvThresh=0.3</th><th scope=col>mirvThresh=0.35</th><th scope=col>mirvThresh=0.5</th><th scope=col>mirvThresh=0.6</th><th scope=col>mirvThresh=0.7</th><th scope=col>mirvThresh=0.8</th><th scope=col>mirvThresh=0.9</th><th scope=col>mirvThresh=1</th></tr>\n",
       "</thead>\n",
       "<tbody>\n",
       "\t<tr><td> 5951</td><td> 5951</td><td> 5951</td><td> 5951</td><td> 5720</td><td> 5564</td><td> 5423</td><td> 5296</td><td> 5197</td><td> 5100</td></tr>\n",
       "\t<tr><td>11907</td><td>11907</td><td>11907</td><td>11907</td><td>11505</td><td>11219</td><td>10953</td><td>10728</td><td>10576</td><td>10408</td></tr>\n",
       "\t<tr><td>15878</td><td>15878</td><td>15878</td><td>15878</td><td>15382</td><td>15043</td><td>14724</td><td>14476</td><td>14275</td><td>14038</td></tr>\n",
       "</tbody>\n",
       "</table>\n"
      ],
      "text/latex": [
       "A matrix: 3 × 10 of type int\n",
       "\\begin{tabular}{llllllllll}\n",
       " mirvThresh=0.2 & mirvThresh=0.25 & mirvThresh=0.3 & mirvThresh=0.35 & mirvThresh=0.5 & mirvThresh=0.6 & mirvThresh=0.7 & mirvThresh=0.8 & mirvThresh=0.9 & mirvThresh=1\\\\\n",
       "\\hline\n",
       "\t  5951 &  5951 &  5951 &  5951 &  5720 &  5564 &  5423 &  5296 &  5197 &  5100\\\\\n",
       "\t 11907 & 11907 & 11907 & 11907 & 11505 & 11219 & 10953 & 10728 & 10576 & 10408\\\\\n",
       "\t 15878 & 15878 & 15878 & 15878 & 15382 & 15043 & 14724 & 14476 & 14275 & 14038\\\\\n",
       "\\end{tabular}\n"
      ],
      "text/markdown": [
       "\n",
       "A matrix: 3 × 10 of type int\n",
       "\n",
       "| mirvThresh=0.2 | mirvThresh=0.25 | mirvThresh=0.3 | mirvThresh=0.35 | mirvThresh=0.5 | mirvThresh=0.6 | mirvThresh=0.7 | mirvThresh=0.8 | mirvThresh=0.9 | mirvThresh=1 |\n",
       "|---|---|---|---|---|---|---|---|---|---|\n",
       "|  5951 |  5951 |  5951 |  5951 |  5720 |  5564 |  5423 |  5296 |  5197 |  5100 |\n",
       "| 11907 | 11907 | 11907 | 11907 | 11505 | 11219 | 10953 | 10728 | 10576 | 10408 |\n",
       "| 15878 | 15878 | 15878 | 15878 | 15382 | 15043 | 14724 | 14476 | 14275 | 14038 |\n",
       "\n"
      ],
      "text/plain": [
       "     mirvThresh=0.2 mirvThresh=0.25 mirvThresh=0.3 mirvThresh=0.35\n",
       "[1,]  5951           5951            5951           5951          \n",
       "[2,] 11907          11907           11907          11907          \n",
       "[3,] 15878          15878           15878          15878          \n",
       "     mirvThresh=0.5 mirvThresh=0.6 mirvThresh=0.7 mirvThresh=0.8 mirvThresh=0.9\n",
       "[1,]  5720           5564           5423           5296           5197         \n",
       "[2,] 11505          11219          10953          10728          10576         \n",
       "[3,] 15382          15043          14724          14476          14275         \n",
       "     mirvThresh=1\n",
       "[1,]  5100       \n",
       "[2,] 10408       \n",
       "[3,] 14038       "
      ]
     },
     "metadata": {},
     "output_type": "display_data"
    }
   ],
   "source": [
    "sapply(defaultTxps, length)\n",
    "sapply(minPTxps, function(minP) {\n",
    "    mapply(function(x,y) length(intersect(x,y)), minP, defaultTxps)\n",
    "})\n",
    "sapply(mirvTxps, function(minP) {\n",
    "    mapply(function(x,y) length(intersect(x,y)), minP, defaultTxps)\n",
    "})\n"
   ]
  },
  {
   "cell_type": "markdown",
   "id": "a9cfb0d6",
   "metadata": {},
   "source": [
    "### Computing Distance"
   ]
  },
  {
   "cell_type": "code",
   "execution_count": 8,
   "id": "575a3b8d",
   "metadata": {},
   "outputs": [],
   "source": [
    "## Idea distance is difference in heights between ancestor and descendant\n",
    "## If the node is in a different branch, then distance is the difference between node and root + 1\n",
    "### n2 is the default nodes\n",
    "compNodes <- function(n1, n2, tree) {\n",
    "    diffNodes <- setdiff(n1, n2) ## unique to n1\n",
    "    desc <- Descendants(treeCons, diffNodes, \"all\")\n",
    "    anc <- Ancestors(treeCons, diffNodes, \"all\")\n",
    "    descMatch <- rep(NA, length(diffNodes))\n",
    "    ancMatch <- rep(NA, length(diffNodes))\n",
    "    for(i in seq_along(desc)) {\n",
    "        mInd <- match(desc[[i]], n2)\n",
    "        if(sum(!is.na(mInd))>0)\n",
    "            descMatch[i] <- n2[mInd[!is.na(mInd)][1]]\n",
    "    }\n",
    "    for(i in seq_along(anc)) {\n",
    "        mInd <- match(anc[[i]], n2)\n",
    "        if(sum(!is.na(mInd))>0)\n",
    "            ancMatch[i] <- n2[mInd[!is.na(mInd)]]\n",
    "    }\n",
    "\n",
    "    ### Want to ensure the nodes that are not NA in anc and desc are not same\n",
    "    reqNodes <- rep(c(NA, length(diffNodes)))\n",
    "    if(sum(!is.na(ancMatch))==0) {\n",
    "        reqNodes <- descMatch\n",
    "    }\n",
    "    else if(sum(!is.na(descMatch))==0) {\n",
    "        reqNodes <- ancMatch\n",
    "    }\n",
    "    ### Now we know that both anc and desc have some nodes that are not NA\n",
    "    else {\n",
    "        ## we want to ensure that is not NA is anc is also not NA in desc\n",
    "         if(sum(!is.na(ancMatch) == !is.na(descMatch)) != 0)\n",
    "             stop(\"pairs in both directions\")\n",
    "         reqNodes[!is.na(ancMatch)] <- ancMatch[!is.na(ancMatch)]\n",
    "         reqNodes[!is.na(descMatch)] <- ancMatch[!is.na(descMatch)]\n",
    "    }\n",
    "    \n",
    "    ### Computing distance between the nodes\n",
    "    ### For the common nodes distance is 0\n",
    "    ### For the nodes with ancestors or descendants distance is distance b/w them\n",
    "    ### For the others is the distance from root + 1\n",
    "    distNodes <- rep(0, length(n1))\n",
    "    notNA <- which(!is.na(reqNodes))\n",
    "    na <- which(is.na(reqNodes))\n",
    "    distNodes[match(diffNodes[notNA], n1)] <- abs(node.depth(tree, 2)[diffNodes[notNA]] - node.depth(tree, 2)[reqNodes[notNA]])\n",
    "    distNodes[match(diffNodes[na], n1)] <- abs(node.depth(tree, 2)[length(tree$tip)+1] - node.depth(tree, 2)[diffNodes[na]])+1\n",
    "    return(list(diffNodes, descMatch, ancMatch, distNodes, sum(distNodes)/length(n1)))\n",
    "    \n",
    "}\n",
    "### Go with "
   ]
  },
  {
   "cell_type": "code",
   "execution_count": 9,
   "id": "5d7856b7",
   "metadata": {},
   "outputs": [],
   "source": [
    "distminP <- lapply(minPNodes, function(nodes) {\n",
    "    sapply(seq_along(nodes), function(i) compNodes(n1 = nodes[[i]], n2 = defaultNodes[[i]], treeCons)[[5]])\n",
    "})"
   ]
  },
  {
   "cell_type": "code",
   "execution_count": 10,
   "id": "2977cdb9",
   "metadata": {},
   "outputs": [
    {
     "data": {
      "text/html": [
       "<table class=\"dataframe\">\n",
       "<caption>A data.frame: 3 × 6</caption>\n",
       "<thead>\n",
       "\t<tr><th></th><th scope=col>minP.0.6</th><th scope=col>minP.0.65</th><th scope=col>minP.0.75</th><th scope=col>minP.0.8</th><th scope=col>minP.0.85</th><th scope=col>minP.0.9</th></tr>\n",
       "\t<tr><th></th><th scope=col>&lt;dbl&gt;</th><th scope=col>&lt;dbl&gt;</th><th scope=col>&lt;dbl&gt;</th><th scope=col>&lt;dbl&gt;</th><th scope=col>&lt;dbl&gt;</th><th scope=col>&lt;dbl&gt;</th></tr>\n",
       "</thead>\n",
       "<tbody>\n",
       "\t<tr><th scope=row>1</th><td>0.02798153</td><td>0.01622938</td><td>0.26423201</td><td>0.4056806</td><td>0.6095671</td><td>0.8006397</td></tr>\n",
       "\t<tr><th scope=row>2</th><td>0.03796477</td><td>0.02003643</td><td>0.16322823</td><td>0.2417996</td><td>0.3230949</td><td>0.4140969</td></tr>\n",
       "\t<tr><th scope=row>3</th><td>0.04562883</td><td>0.02106271</td><td>0.08891863</td><td>0.1930093</td><td>0.2631981</td><td>0.3228580</td></tr>\n",
       "</tbody>\n",
       "</table>\n"
      ],
      "text/latex": [
       "A data.frame: 3 × 6\n",
       "\\begin{tabular}{r|llllll}\n",
       "  & minP.0.6 & minP.0.65 & minP.0.75 & minP.0.8 & minP.0.85 & minP.0.9\\\\\n",
       "  & <dbl> & <dbl> & <dbl> & <dbl> & <dbl> & <dbl>\\\\\n",
       "\\hline\n",
       "\t1 & 0.02798153 & 0.01622938 & 0.26423201 & 0.4056806 & 0.6095671 & 0.8006397\\\\\n",
       "\t2 & 0.03796477 & 0.02003643 & 0.16322823 & 0.2417996 & 0.3230949 & 0.4140969\\\\\n",
       "\t3 & 0.04562883 & 0.02106271 & 0.08891863 & 0.1930093 & 0.2631981 & 0.3228580\\\\\n",
       "\\end{tabular}\n"
      ],
      "text/markdown": [
       "\n",
       "A data.frame: 3 × 6\n",
       "\n",
       "| <!--/--> | minP.0.6 &lt;dbl&gt; | minP.0.65 &lt;dbl&gt; | minP.0.75 &lt;dbl&gt; | minP.0.8 &lt;dbl&gt; | minP.0.85 &lt;dbl&gt; | minP.0.9 &lt;dbl&gt; |\n",
       "|---|---|---|---|---|---|---|\n",
       "| 1 | 0.02798153 | 0.01622938 | 0.26423201 | 0.4056806 | 0.6095671 | 0.8006397 |\n",
       "| 2 | 0.03796477 | 0.02003643 | 0.16322823 | 0.2417996 | 0.3230949 | 0.4140969 |\n",
       "| 3 | 0.04562883 | 0.02106271 | 0.08891863 | 0.1930093 | 0.2631981 | 0.3228580 |\n",
       "\n"
      ],
      "text/plain": [
       "  minP.0.6   minP.0.65  minP.0.75  minP.0.8  minP.0.85 minP.0.9 \n",
       "1 0.02798153 0.01622938 0.26423201 0.4056806 0.6095671 0.8006397\n",
       "2 0.03796477 0.02003643 0.16322823 0.2417996 0.3230949 0.4140969\n",
       "3 0.04562883 0.02106271 0.08891863 0.1930093 0.2631981 0.3228580"
      ]
     },
     "metadata": {},
     "output_type": "display_data"
    }
   ],
   "source": [
    "df <- data.frame(distminP)\n",
    "head(df)"
   ]
  },
  {
   "cell_type": "code",
   "execution_count": 11,
   "id": "f8a4744d",
   "metadata": {},
   "outputs": [
    {
     "data": {
      "text/html": [
       "<table class=\"dataframe\">\n",
       "<caption>A tibble: 18 × 4</caption>\n",
       "<thead>\n",
       "\t<tr><th scope=col>Threshold</th><th scope=col>Distance</th><th scope=col>FDR</th><th scope=col>Thresh</th></tr>\n",
       "\t<tr><th scope=col>&lt;chr&gt;</th><th scope=col>&lt;dbl&gt;</th><th scope=col>&lt;fct&gt;</th><th scope=col>&lt;chr&gt;</th></tr>\n",
       "</thead>\n",
       "<tbody>\n",
       "\t<tr><td>minP.0.6 </td><td>0.02798153</td><td>0.01</td><td>0.6 </td></tr>\n",
       "\t<tr><td>minP.0.65</td><td>0.01622938</td><td>0.01</td><td>0.65</td></tr>\n",
       "\t<tr><td>minP.0.75</td><td>0.26423201</td><td>0.01</td><td>0.75</td></tr>\n",
       "\t<tr><td>minP.0.8 </td><td>0.40568060</td><td>0.01</td><td>0.8 </td></tr>\n",
       "\t<tr><td>minP.0.85</td><td>0.60956708</td><td>0.01</td><td>0.85</td></tr>\n",
       "\t<tr><td>minP.0.9 </td><td>0.80063966</td><td>0.01</td><td>0.9 </td></tr>\n",
       "\t<tr><td>minP.0.6 </td><td>0.03796477</td><td>0.05</td><td>0.6 </td></tr>\n",
       "\t<tr><td>minP.0.65</td><td>0.02003643</td><td>0.05</td><td>0.65</td></tr>\n",
       "\t<tr><td>minP.0.75</td><td>0.16322823</td><td>0.05</td><td>0.75</td></tr>\n",
       "\t<tr><td>minP.0.8 </td><td>0.24179956</td><td>0.05</td><td>0.8 </td></tr>\n",
       "\t<tr><td>minP.0.85</td><td>0.32309487</td><td>0.05</td><td>0.85</td></tr>\n",
       "\t<tr><td>minP.0.9 </td><td>0.41409692</td><td>0.05</td><td>0.9 </td></tr>\n",
       "\t<tr><td>minP.0.6 </td><td>0.04562883</td><td>0.1 </td><td>0.6 </td></tr>\n",
       "\t<tr><td>minP.0.65</td><td>0.02106271</td><td>0.1 </td><td>0.65</td></tr>\n",
       "\t<tr><td>minP.0.75</td><td>0.08891863</td><td>0.1 </td><td>0.75</td></tr>\n",
       "\t<tr><td>minP.0.8 </td><td>0.19300926</td><td>0.1 </td><td>0.8 </td></tr>\n",
       "\t<tr><td>minP.0.85</td><td>0.26319809</td><td>0.1 </td><td>0.85</td></tr>\n",
       "\t<tr><td>minP.0.9 </td><td>0.32285796</td><td>0.1 </td><td>0.9 </td></tr>\n",
       "</tbody>\n",
       "</table>\n"
      ],
      "text/latex": [
       "A tibble: 18 × 4\n",
       "\\begin{tabular}{llll}\n",
       " Threshold & Distance & FDR & Thresh\\\\\n",
       " <chr> & <dbl> & <fct> & <chr>\\\\\n",
       "\\hline\n",
       "\t minP.0.6  & 0.02798153 & 0.01 & 0.6 \\\\\n",
       "\t minP.0.65 & 0.01622938 & 0.01 & 0.65\\\\\n",
       "\t minP.0.75 & 0.26423201 & 0.01 & 0.75\\\\\n",
       "\t minP.0.8  & 0.40568060 & 0.01 & 0.8 \\\\\n",
       "\t minP.0.85 & 0.60956708 & 0.01 & 0.85\\\\\n",
       "\t minP.0.9  & 0.80063966 & 0.01 & 0.9 \\\\\n",
       "\t minP.0.6  & 0.03796477 & 0.05 & 0.6 \\\\\n",
       "\t minP.0.65 & 0.02003643 & 0.05 & 0.65\\\\\n",
       "\t minP.0.75 & 0.16322823 & 0.05 & 0.75\\\\\n",
       "\t minP.0.8  & 0.24179956 & 0.05 & 0.8 \\\\\n",
       "\t minP.0.85 & 0.32309487 & 0.05 & 0.85\\\\\n",
       "\t minP.0.9  & 0.41409692 & 0.05 & 0.9 \\\\\n",
       "\t minP.0.6  & 0.04562883 & 0.1  & 0.6 \\\\\n",
       "\t minP.0.65 & 0.02106271 & 0.1  & 0.65\\\\\n",
       "\t minP.0.75 & 0.08891863 & 0.1  & 0.75\\\\\n",
       "\t minP.0.8  & 0.19300926 & 0.1  & 0.8 \\\\\n",
       "\t minP.0.85 & 0.26319809 & 0.1  & 0.85\\\\\n",
       "\t minP.0.9  & 0.32285796 & 0.1  & 0.9 \\\\\n",
       "\\end{tabular}\n"
      ],
      "text/markdown": [
       "\n",
       "A tibble: 18 × 4\n",
       "\n",
       "| Threshold &lt;chr&gt; | Distance &lt;dbl&gt; | FDR &lt;fct&gt; | Thresh &lt;chr&gt; |\n",
       "|---|---|---|---|\n",
       "| minP.0.6  | 0.02798153 | 0.01 | 0.6  |\n",
       "| minP.0.65 | 0.01622938 | 0.01 | 0.65 |\n",
       "| minP.0.75 | 0.26423201 | 0.01 | 0.75 |\n",
       "| minP.0.8  | 0.40568060 | 0.01 | 0.8  |\n",
       "| minP.0.85 | 0.60956708 | 0.01 | 0.85 |\n",
       "| minP.0.9  | 0.80063966 | 0.01 | 0.9  |\n",
       "| minP.0.6  | 0.03796477 | 0.05 | 0.6  |\n",
       "| minP.0.65 | 0.02003643 | 0.05 | 0.65 |\n",
       "| minP.0.75 | 0.16322823 | 0.05 | 0.75 |\n",
       "| minP.0.8  | 0.24179956 | 0.05 | 0.8  |\n",
       "| minP.0.85 | 0.32309487 | 0.05 | 0.85 |\n",
       "| minP.0.9  | 0.41409692 | 0.05 | 0.9  |\n",
       "| minP.0.6  | 0.04562883 | 0.1  | 0.6  |\n",
       "| minP.0.65 | 0.02106271 | 0.1  | 0.65 |\n",
       "| minP.0.75 | 0.08891863 | 0.1  | 0.75 |\n",
       "| minP.0.8  | 0.19300926 | 0.1  | 0.8  |\n",
       "| minP.0.85 | 0.26319809 | 0.1  | 0.85 |\n",
       "| minP.0.9  | 0.32285796 | 0.1  | 0.9  |\n",
       "\n"
      ],
      "text/plain": [
       "   Threshold Distance   FDR  Thresh\n",
       "1  minP.0.6  0.02798153 0.01 0.6   \n",
       "2  minP.0.65 0.01622938 0.01 0.65  \n",
       "3  minP.0.75 0.26423201 0.01 0.75  \n",
       "4  minP.0.8  0.40568060 0.01 0.8   \n",
       "5  minP.0.85 0.60956708 0.01 0.85  \n",
       "6  minP.0.9  0.80063966 0.01 0.9   \n",
       "7  minP.0.6  0.03796477 0.05 0.6   \n",
       "8  minP.0.65 0.02003643 0.05 0.65  \n",
       "9  minP.0.75 0.16322823 0.05 0.75  \n",
       "10 minP.0.8  0.24179956 0.05 0.8   \n",
       "11 minP.0.85 0.32309487 0.05 0.85  \n",
       "12 minP.0.9  0.41409692 0.05 0.9   \n",
       "13 minP.0.6  0.04562883 0.1  0.6   \n",
       "14 minP.0.65 0.02106271 0.1  0.65  \n",
       "15 minP.0.75 0.08891863 0.1  0.75  \n",
       "16 minP.0.8  0.19300926 0.1  0.8   \n",
       "17 minP.0.85 0.26319809 0.1  0.85  \n",
       "18 minP.0.9  0.32285796 0.1  0.9   "
      ]
     },
     "metadata": {},
     "output_type": "display_data"
    }
   ],
   "source": [
    "dfMinP <- pivot_longer(df, cols = starts_with(\"minP\"), # select columns starting with \"day\"\n",
    "                        names_to = \"Threshold\", # new column for day labels\n",
    "                        values_to = \"Distance\" # new column for values\n",
    ")\n",
    "dfMinP <- dfMinP %>% mutate(FDR=factor(rep(c(0.01, 0.05, 0.1), each = ncol(df))),\n",
    "                           Thresh = gsub(\"minP.\", \"\", Threshold))\n",
    "dfMinP"
   ]
  },
  {
   "cell_type": "code",
   "execution_count": 12,
   "id": "ef4b061f",
   "metadata": {},
   "outputs": [],
   "source": [
    "size <- 18\n",
    "pMinP <- ggplot(dfMinP, aes(x = Thresh, y = Distance, color = factor(FDR), shape = FDR)) +\n",
    "    geom_point(size=5) +\n",
    "    theme_bw() +\n",
    "    labs(title = \"Distance between the nodes obtained at default threshold \\n and varying minP\",\n",
    "        color = \"Nominal FDR\",\n",
    "        shape = \"Nominal FDR\",\n",
    "        x=\"minP\") +\n",
    "    theme(plot.title = element_text(size = size - 1),\n",
    "        axis.text = element_text(size = size),\n",
    "        axis.title = element_text(size = size),\n",
    "        legend.text = element_text(size = size),\n",
    "        legend.title = element_text(size = size),\n",
    "        legend.position = \"bottom\") +\n",
    "    guides(fill = \"none\")"
   ]
  },
  {
   "cell_type": "code",
   "execution_count": 13,
   "id": "6a0e56f5",
   "metadata": {},
   "outputs": [
    {
     "data": {
      "text/html": [
       "<table class=\"dataframe\">\n",
       "<caption>A tibble: 24 × 4</caption>\n",
       "<thead>\n",
       "\t<tr><th scope=col>Threshold</th><th scope=col>Distance</th><th scope=col>FDR</th><th scope=col>Thresh</th></tr>\n",
       "\t<tr><th scope=col>&lt;chr&gt;</th><th scope=col>&lt;dbl&gt;</th><th scope=col>&lt;fct&gt;</th><th scope=col>&lt;chr&gt;</th></tr>\n",
       "</thead>\n",
       "<tbody>\n",
       "\t<tr><td>mirvThresh.0.2</td><td>1.18485821</td><td>0.01</td><td>0.2</td></tr>\n",
       "\t<tr><td>mirvThresh.0.3</td><td>0.33450040</td><td>0.01</td><td>0.3</td></tr>\n",
       "\t<tr><td>mirvThresh.0.5</td><td>0.05087957</td><td>0.01</td><td>0.5</td></tr>\n",
       "\t<tr><td>mirvThresh.0.6</td><td>0.08417051</td><td>0.01</td><td>0.6</td></tr>\n",
       "\t<tr><td>mirvThresh.0.7</td><td>0.10883797</td><td>0.01</td><td>0.7</td></tr>\n",
       "\t<tr><td>mirvThresh.0.8</td><td>0.12431394</td><td>0.01</td><td>0.8</td></tr>\n",
       "\t<tr><td>mirvThresh.0.9</td><td>0.13722789</td><td>0.01</td><td>0.9</td></tr>\n",
       "\t<tr><td>mirvThresh.1  </td><td>0.15607735</td><td>0.01</td><td>1  </td></tr>\n",
       "\t<tr><td>mirvThresh.0.2</td><td>0.86822309</td><td>0.05</td><td>0.2</td></tr>\n",
       "\t<tr><td>mirvThresh.0.3</td><td>0.30530283</td><td>0.05</td><td>0.3</td></tr>\n",
       "\t<tr><td>mirvThresh.0.5</td><td>0.04900300</td><td>0.05</td><td>0.5</td></tr>\n",
       "\t<tr><td>mirvThresh.0.6</td><td>0.07815972</td><td>0.05</td><td>0.6</td></tr>\n",
       "\t<tr><td>mirvThresh.0.7</td><td>0.10674525</td><td>0.05</td><td>0.7</td></tr>\n",
       "\t<tr><td>mirvThresh.0.8</td><td>0.12790545</td><td>0.05</td><td>0.8</td></tr>\n",
       "\t<tr><td>mirvThresh.0.9</td><td>0.14706269</td><td>0.05</td><td>0.9</td></tr>\n",
       "\t<tr><td>mirvThresh.1  </td><td>0.16493353</td><td>0.05</td><td>1  </td></tr>\n",
       "\t<tr><td>mirvThresh.0.2</td><td>0.70929119</td><td>0.1 </td><td>0.2</td></tr>\n",
       "\t<tr><td>mirvThresh.0.3</td><td>0.26544863</td><td>0.1 </td><td>0.3</td></tr>\n",
       "\t<tr><td>mirvThresh.0.5</td><td>0.04776948</td><td>0.1 </td><td>0.5</td></tr>\n",
       "\t<tr><td>mirvThresh.0.6</td><td>0.07847082</td><td>0.1 </td><td>0.6</td></tr>\n",
       "\t<tr><td>mirvThresh.0.7</td><td>0.10677283</td><td>0.1 </td><td>0.7</td></tr>\n",
       "\t<tr><td>mirvThresh.0.8</td><td>0.12929545</td><td>0.1 </td><td>0.8</td></tr>\n",
       "\t<tr><td>mirvThresh.0.9</td><td>0.14681015</td><td>0.1 </td><td>0.9</td></tr>\n",
       "\t<tr><td>mirvThresh.1  </td><td>0.16463004</td><td>0.1 </td><td>1  </td></tr>\n",
       "</tbody>\n",
       "</table>\n"
      ],
      "text/latex": [
       "A tibble: 24 × 4\n",
       "\\begin{tabular}{llll}\n",
       " Threshold & Distance & FDR & Thresh\\\\\n",
       " <chr> & <dbl> & <fct> & <chr>\\\\\n",
       "\\hline\n",
       "\t mirvThresh.0.2 & 1.18485821 & 0.01 & 0.2\\\\\n",
       "\t mirvThresh.0.3 & 0.33450040 & 0.01 & 0.3\\\\\n",
       "\t mirvThresh.0.5 & 0.05087957 & 0.01 & 0.5\\\\\n",
       "\t mirvThresh.0.6 & 0.08417051 & 0.01 & 0.6\\\\\n",
       "\t mirvThresh.0.7 & 0.10883797 & 0.01 & 0.7\\\\\n",
       "\t mirvThresh.0.8 & 0.12431394 & 0.01 & 0.8\\\\\n",
       "\t mirvThresh.0.9 & 0.13722789 & 0.01 & 0.9\\\\\n",
       "\t mirvThresh.1   & 0.15607735 & 0.01 & 1  \\\\\n",
       "\t mirvThresh.0.2 & 0.86822309 & 0.05 & 0.2\\\\\n",
       "\t mirvThresh.0.3 & 0.30530283 & 0.05 & 0.3\\\\\n",
       "\t mirvThresh.0.5 & 0.04900300 & 0.05 & 0.5\\\\\n",
       "\t mirvThresh.0.6 & 0.07815972 & 0.05 & 0.6\\\\\n",
       "\t mirvThresh.0.7 & 0.10674525 & 0.05 & 0.7\\\\\n",
       "\t mirvThresh.0.8 & 0.12790545 & 0.05 & 0.8\\\\\n",
       "\t mirvThresh.0.9 & 0.14706269 & 0.05 & 0.9\\\\\n",
       "\t mirvThresh.1   & 0.16493353 & 0.05 & 1  \\\\\n",
       "\t mirvThresh.0.2 & 0.70929119 & 0.1  & 0.2\\\\\n",
       "\t mirvThresh.0.3 & 0.26544863 & 0.1  & 0.3\\\\\n",
       "\t mirvThresh.0.5 & 0.04776948 & 0.1  & 0.5\\\\\n",
       "\t mirvThresh.0.6 & 0.07847082 & 0.1  & 0.6\\\\\n",
       "\t mirvThresh.0.7 & 0.10677283 & 0.1  & 0.7\\\\\n",
       "\t mirvThresh.0.8 & 0.12929545 & 0.1  & 0.8\\\\\n",
       "\t mirvThresh.0.9 & 0.14681015 & 0.1  & 0.9\\\\\n",
       "\t mirvThresh.1   & 0.16463004 & 0.1  & 1  \\\\\n",
       "\\end{tabular}\n"
      ],
      "text/markdown": [
       "\n",
       "A tibble: 24 × 4\n",
       "\n",
       "| Threshold &lt;chr&gt; | Distance &lt;dbl&gt; | FDR &lt;fct&gt; | Thresh &lt;chr&gt; |\n",
       "|---|---|---|---|\n",
       "| mirvThresh.0.2 | 1.18485821 | 0.01 | 0.2 |\n",
       "| mirvThresh.0.3 | 0.33450040 | 0.01 | 0.3 |\n",
       "| mirvThresh.0.5 | 0.05087957 | 0.01 | 0.5 |\n",
       "| mirvThresh.0.6 | 0.08417051 | 0.01 | 0.6 |\n",
       "| mirvThresh.0.7 | 0.10883797 | 0.01 | 0.7 |\n",
       "| mirvThresh.0.8 | 0.12431394 | 0.01 | 0.8 |\n",
       "| mirvThresh.0.9 | 0.13722789 | 0.01 | 0.9 |\n",
       "| mirvThresh.1   | 0.15607735 | 0.01 | 1   |\n",
       "| mirvThresh.0.2 | 0.86822309 | 0.05 | 0.2 |\n",
       "| mirvThresh.0.3 | 0.30530283 | 0.05 | 0.3 |\n",
       "| mirvThresh.0.5 | 0.04900300 | 0.05 | 0.5 |\n",
       "| mirvThresh.0.6 | 0.07815972 | 0.05 | 0.6 |\n",
       "| mirvThresh.0.7 | 0.10674525 | 0.05 | 0.7 |\n",
       "| mirvThresh.0.8 | 0.12790545 | 0.05 | 0.8 |\n",
       "| mirvThresh.0.9 | 0.14706269 | 0.05 | 0.9 |\n",
       "| mirvThresh.1   | 0.16493353 | 0.05 | 1   |\n",
       "| mirvThresh.0.2 | 0.70929119 | 0.1  | 0.2 |\n",
       "| mirvThresh.0.3 | 0.26544863 | 0.1  | 0.3 |\n",
       "| mirvThresh.0.5 | 0.04776948 | 0.1  | 0.5 |\n",
       "| mirvThresh.0.6 | 0.07847082 | 0.1  | 0.6 |\n",
       "| mirvThresh.0.7 | 0.10677283 | 0.1  | 0.7 |\n",
       "| mirvThresh.0.8 | 0.12929545 | 0.1  | 0.8 |\n",
       "| mirvThresh.0.9 | 0.14681015 | 0.1  | 0.9 |\n",
       "| mirvThresh.1   | 0.16463004 | 0.1  | 1   |\n",
       "\n"
      ],
      "text/plain": [
       "   Threshold      Distance   FDR  Thresh\n",
       "1  mirvThresh.0.2 1.18485821 0.01 0.2   \n",
       "2  mirvThresh.0.3 0.33450040 0.01 0.3   \n",
       "3  mirvThresh.0.5 0.05087957 0.01 0.5   \n",
       "4  mirvThresh.0.6 0.08417051 0.01 0.6   \n",
       "5  mirvThresh.0.7 0.10883797 0.01 0.7   \n",
       "6  mirvThresh.0.8 0.12431394 0.01 0.8   \n",
       "7  mirvThresh.0.9 0.13722789 0.01 0.9   \n",
       "8  mirvThresh.1   0.15607735 0.01 1     \n",
       "9  mirvThresh.0.2 0.86822309 0.05 0.2   \n",
       "10 mirvThresh.0.3 0.30530283 0.05 0.3   \n",
       "11 mirvThresh.0.5 0.04900300 0.05 0.5   \n",
       "12 mirvThresh.0.6 0.07815972 0.05 0.6   \n",
       "13 mirvThresh.0.7 0.10674525 0.05 0.7   \n",
       "14 mirvThresh.0.8 0.12790545 0.05 0.8   \n",
       "15 mirvThresh.0.9 0.14706269 0.05 0.9   \n",
       "16 mirvThresh.1   0.16493353 0.05 1     \n",
       "17 mirvThresh.0.2 0.70929119 0.1  0.2   \n",
       "18 mirvThresh.0.3 0.26544863 0.1  0.3   \n",
       "19 mirvThresh.0.5 0.04776948 0.1  0.5   \n",
       "20 mirvThresh.0.6 0.07847082 0.1  0.6   \n",
       "21 mirvThresh.0.7 0.10677283 0.1  0.7   \n",
       "22 mirvThresh.0.8 0.12929545 0.1  0.8   \n",
       "23 mirvThresh.0.9 0.14681015 0.1  0.9   \n",
       "24 mirvThresh.1   0.16463004 0.1  1     "
      ]
     },
     "metadata": {},
     "output_type": "display_data"
    }
   ],
   "source": [
    "distmirv <- lapply(mirvNodes, function(nodes) {\n",
    "    sapply(seq_along(nodes), function(i) compNodes(n1 = nodes[[i]], n2 = defaultNodes[[i]], treeCons)[[5]])\n",
    "})\n",
    "df <- data.frame(distmirv)\n",
    "dfMirv <- pivot_longer(df, cols = starts_with(\"mirv\"), # select columns starting with \"day\"\n",
    "                        names_to = \"Threshold\", # new column for day labels\n",
    "                        values_to = \"Distance\" # new column for values\n",
    ")\n",
    "dfMirv <- dfMirv %>% mutate(FDR=factor(rep(c(0.01, 0.05, 0.1), each = ncol(df))),\n",
    "                           Thresh = gsub(\"mirvThresh.\", \"\", Threshold))\n",
    "dfMirv"
   ]
  },
  {
   "cell_type": "code",
   "execution_count": 14,
   "id": "b19831d8",
   "metadata": {},
   "outputs": [],
   "source": [
    "size <- 18\n",
    "pMirv <- ggplot(dfMirv, aes(x = Thresh, y = Distance, color = FDR, shape = FDR)) +\n",
    "    geom_point(size=5) +\n",
    "    theme_bw() +\n",
    "    labs(title = \"Distance between the nodes obtained at default threshold \\n and varying mIRV\",\n",
    "        color = \"Nominal FDR\",\n",
    "        shape = \"Nominal FDR\",\n",
    "        x=\"mIRV\") +\n",
    "    theme(plot.title = element_text(size = size - 1),\n",
    "        axis.text = element_text(size = size),\n",
    "        axis.title = element_text(size = size),\n",
    "        legend.text = element_text(size = size),\n",
    "        legend.title = element_text(size = size),\n",
    "        legend.position = \"bottom\") +\n",
    "    guides(fill = \"none\")"
   ]
  },
  {
   "cell_type": "code",
   "execution_count": 15,
   "id": "42d45d4c",
   "metadata": {},
   "outputs": [
    {
     "data": {
      "image/png": "[encoded data removed]",
      "text/plain": [
       "plot without title"
      ]
     },
     "metadata": {
      "image/png": {
       "height": 480,
       "width": 840
      }
     },
     "output_type": "display_data"
    }
   ],
   "source": [
    "options(repr.plot.width=14, repr.plot.height=8)\n",
    "ggarrange(pMinP, pMirv, common.legend = T, legend = \"bottom\", labels = c(\"A)\", \"B)\"),\n",
    "         font.label=list(size=size, face=\"plain\"), hjust=-0.5)"
   ]
  },
  {
   "cell_type": "code",
   "execution_count": 33,
   "id": "8e190bd1",
   "metadata": {},
   "outputs": [],
   "source": [
    "distminP2 <- lapply(minPNodes, function(nodes) {\n",
    "    sapply(seq_along(nodes), function(i) compNodes(n2 = nodes[[i]], n1= defaultNodes[[i]], treeCons)[[5]])\n",
    "})"
   ]
  },
  {
   "cell_type": "code",
   "execution_count": 37,
   "id": "9fcc51fa",
   "metadata": {},
   "outputs": [
    {
     "data": {
      "text/html": [
       "<dl>\n",
       "\t<dt>$`minP=0.6`</dt>\n",
       "\t\t<dd><style>\n",
       ".list-inline {list-style: none; margin:0; padding: 0}\n",
       ".list-inline>li {display: inline-block}\n",
       ".list-inline>li:not(:last-child)::after {content: \"\\00b7\"; padding: 0 .5ex}\n",
       "</style>\n",
       "<ol class=list-inline><li>0.554567502021019</li><li>0.330690237878591</li><li>0.314591700133869</li></ol>\n",
       "</dd>\n",
       "\t<dt>$`minP=0.65`</dt>\n",
       "\t\t<dd><style>\n",
       ".list-inline {list-style: none; margin:0; padding: 0}\n",
       ".list-inline>li {display: inline-block}\n",
       ".list-inline>li:not(:last-child)::after {content: \"\\00b7\"; padding: 0 .5ex}\n",
       "</style>\n",
       "<ol class=list-inline><li>0.271894368094853</li><li>0.12348888600026</li><li>0.161694396634156</li></ol>\n",
       "</dd>\n",
       "\t<dt>$`minP=0.75`</dt>\n",
       "\t\t<dd><style>\n",
       ".list-inline {list-style: none; margin:0; padding: 0}\n",
       ".list-inline>li {display: inline-block}\n",
       ".list-inline>li:not(:last-child)::after {content: \"\\00b7\"; padding: 0 .5ex}\n",
       "</style>\n",
       "<ol class=list-inline><li>0.0113177041228779</li><li>0.0170284674379306</li><li>0.0204628035953337</li></ol>\n",
       "</dd>\n",
       "\t<dt>$`minP=0.8`</dt>\n",
       "\t\t<dd><style>\n",
       ".list-inline {list-style: none; margin:0; padding: 0}\n",
       ".list-inline>li {display: inline-block}\n",
       ".list-inline>li:not(:last-child)::after {content: \"\\00b7\"; padding: 0 .5ex}\n",
       "</style>\n",
       "<ol class=list-inline><li>0.0191323093505794</li><li>0.0309372156505914</li><li>0.0350927519602218</li></ol>\n",
       "</dd>\n",
       "\t<dt>$`minP=0.85`</dt>\n",
       "\t\t<dd><style>\n",
       ".list-inline {list-style: none; margin:0; padding: 0}\n",
       ".list-inline>li {display: inline-block}\n",
       ".list-inline>li:not(:last-child)::after {content: \"\\00b7\"; padding: 0 .5ex}\n",
       "</style>\n",
       "<ol class=list-inline><li>0.0288331985987604</li><li>0.050695437410633</li><li>0.0534519028494932</li></ol>\n",
       "</dd>\n",
       "\t<dt>$`minP=0.9`</dt>\n",
       "\t\t<dd><style>\n",
       ".list-inline {list-style: none; margin:0; padding: 0}\n",
       ".list-inline>li {display: inline-block}\n",
       ".list-inline>li:not(:last-child)::after {content: \"\\00b7\"; padding: 0 .5ex}\n",
       "</style>\n",
       "<ol class=list-inline><li>0.0388035569927243</li><li>0.0709736123748863</li><li>0.076592082616179</li></ol>\n",
       "</dd>\n",
       "</dl>\n"
      ],
      "text/latex": [
       "\\begin{description}\n",
       "\\item[\\$`minP=0.6`] \\begin{enumerate*}\n",
       "\\item 0.554567502021019\n",
       "\\item 0.330690237878591\n",
       "\\item 0.314591700133869\n",
       "\\end{enumerate*}\n",
       "\n",
       "\\item[\\$`minP=0.65`] \\begin{enumerate*}\n",
       "\\item 0.271894368094853\n",
       "\\item 0.12348888600026\n",
       "\\item 0.161694396634156\n",
       "\\end{enumerate*}\n",
       "\n",
       "\\item[\\$`minP=0.75`] \\begin{enumerate*}\n",
       "\\item 0.0113177041228779\n",
       "\\item 0.0170284674379306\n",
       "\\item 0.0204628035953337\n",
       "\\end{enumerate*}\n",
       "\n",
       "\\item[\\$`minP=0.8`] \\begin{enumerate*}\n",
       "\\item 0.0191323093505794\n",
       "\\item 0.0309372156505914\n",
       "\\item 0.0350927519602218\n",
       "\\end{enumerate*}\n",
       "\n",
       "\\item[\\$`minP=0.85`] \\begin{enumerate*}\n",
       "\\item 0.0288331985987604\n",
       "\\item 0.050695437410633\n",
       "\\item 0.0534519028494932\n",
       "\\end{enumerate*}\n",
       "\n",
       "\\item[\\$`minP=0.9`] \\begin{enumerate*}\n",
       "\\item 0.0388035569927243\n",
       "\\item 0.0709736123748863\n",
       "\\item 0.076592082616179\n",
       "\\end{enumerate*}\n",
       "\n",
       "\\end{description}\n"
      ],
      "text/markdown": [
       "$`minP=0.6`\n",
       ":   1. 0.554567502021019\n",
       "2. 0.330690237878591\n",
       "3. 0.314591700133869\n",
       "\n",
       "\n",
       "\n",
       "$`minP=0.65`\n",
       ":   1. 0.271894368094853\n",
       "2. 0.12348888600026\n",
       "3. 0.161694396634156\n",
       "\n",
       "\n",
       "\n",
       "$`minP=0.75`\n",
       ":   1. 0.0113177041228779\n",
       "2. 0.0170284674379306\n",
       "3. 0.0204628035953337\n",
       "\n",
       "\n",
       "\n",
       "$`minP=0.8`\n",
       ":   1. 0.0191323093505794\n",
       "2. 0.0309372156505914\n",
       "3. 0.0350927519602218\n",
       "\n",
       "\n",
       "\n",
       "$`minP=0.85`\n",
       ":   1. 0.0288331985987604\n",
       "2. 0.050695437410633\n",
       "3. 0.0534519028494932\n",
       "\n",
       "\n",
       "\n",
       "$`minP=0.9`\n",
       ":   1. 0.0388035569927243\n",
       "2. 0.0709736123748863\n",
       "3. 0.076592082616179\n",
       "\n",
       "\n",
       "\n",
       "\n",
       "\n"
      ],
      "text/plain": [
       "$`minP=0.6`\n",
       "[1] 0.5545675 0.3306902 0.3145917\n",
       "\n",
       "$`minP=0.65`\n",
       "[1] 0.2718944 0.1234889 0.1616944\n",
       "\n",
       "$`minP=0.75`\n",
       "[1] 0.01131770 0.01702847 0.02046280\n",
       "\n",
       "$`minP=0.8`\n",
       "[1] 0.01913231 0.03093722 0.03509275\n",
       "\n",
       "$`minP=0.85`\n",
       "[1] 0.02883320 0.05069544 0.05345190\n",
       "\n",
       "$`minP=0.9`\n",
       "[1] 0.03880356 0.07097361 0.07659208\n"
      ]
     },
     "metadata": {},
     "output_type": "display_data"
    }
   ],
   "source": [
    "distminP2"
   ]
  },
  {
   "cell_type": "code",
   "execution_count": 38,
   "id": "93845120",
   "metadata": {},
   "outputs": [],
   "source": [
    "df <- data.frame(distminP2)\n",
    "dfMinP <- pivot_longer(df, cols = starts_with(\"minP\"), # select columns starting with \"day\"\n",
    "                        names_to = \"Threshold\", # new column for day labels\n",
    "                        values_to = \"Distance\" # new column for values\n",
    ")\n",
    "dfMinP <- dfMinP %>% mutate(FDR=factor(rep(c(0.01, 0.05, 0.1), each = ncol(df))),\n",
    "                           Thresh = gsub(\"minP.\", \"\", Threshold))\n",
    "size <- 18\n",
    "# pMinP <- ggplot(dfMinP, aes(x = Thresh, y = Distance, color = factor(FDR), shape = FDR)) +\n",
    "#     geom_point(size=5) +\n",
    "#     theme_bw() +\n",
    "#     labs(title = \"Distance between the nodes obtained at default threshold \\n and varying minP\",\n",
    "#         color = \"Nominal FDR\",\n",
    "#         shape = \"Nominal FDR\",\n",
    "#         x=\"minP\") +\n",
    "#     theme(plot.title = element_text(size = size - 1),\n",
    "#         axis.text = element_text(size = size),\n",
    "#         axis.title = element_text(size = size),\n",
    "#         legend.text = element_text(size = size),\n",
    "#         legend.title = element_text(size = size),\n",
    "#         legend.position = \"bottom\") +\n",
    "#     guides(fill = \"none\")"
   ]
  },
  {
   "cell_type": "code",
   "execution_count": 36,
   "id": "8f63819d",
   "metadata": {},
   "outputs": [
    {
     "data": {
      "text/html": [
       "<dl>\n",
       "\t<dt>$`mirvThresh=0.2`</dt>\n",
       "\t\t<dd><style>\n",
       ".list-inline {list-style: none; margin:0; padding: 0}\n",
       ".list-inline>li {display: inline-block}\n",
       ".list-inline>li:not(:last-child)::after {content: \"\\00b7\"; padding: 0 .5ex}\n",
       "</style>\n",
       "<ol class=list-inline><li>0.198868229587712</li><li>0.182373586377226</li><li>0.181487856186651</li></ol>\n",
       "</dd>\n",
       "\t<dt>$`mirvThresh=0.3`</dt>\n",
       "\t\t<dd><style>\n",
       ".list-inline {list-style: none; margin:0; padding: 0}\n",
       ".list-inline>li {display: inline-block}\n",
       ".list-inline>li:not(:last-child)::after {content: \"\\00b7\"; padding: 0 .5ex}\n",
       "</style>\n",
       "<ol class=list-inline><li>0.0714093236324441</li><li>0.0670739633432991</li><li>0.0637789252247084</li></ol>\n",
       "</dd>\n",
       "\t<dt>$`mirvThresh=0.5`</dt>\n",
       "\t\t<dd><style>\n",
       ".list-inline {list-style: none; margin:0; padding: 0}\n",
       ".list-inline>li {display: inline-block}\n",
       ".list-inline>li:not(:last-child)::after {content: \"\\00b7\"; padding: 0 .5ex}\n",
       "</style>\n",
       "<ol class=list-inline><li>0.454324979789814</li><li>0.352658260756532</li><li>0.263625932300631</li></ol>\n",
       "</dd>\n",
       "\t<dt>$`mirvThresh=0.6`</dt>\n",
       "\t\t<dd><style>\n",
       ".list-inline {list-style: none; margin:0; padding: 0}\n",
       ".list-inline>li {display: inline-block}\n",
       ".list-inline>li:not(:last-child)::after {content: \"\\00b7\"; padding: 0 .5ex}\n",
       "</style>\n",
       "<ol class=list-inline><li>0.740501212611156</li><li>0.644352008319251</li><li>0.443775100401606</li></ol>\n",
       "</dd>\n",
       "\t<dt>$`mirvThresh=0.7`</dt>\n",
       "\t\t<dd><style>\n",
       ".list-inline {list-style: none; margin:0; padding: 0}\n",
       ".list-inline>li {display: inline-block}\n",
       ".list-inline>li:not(:last-child)::after {content: \"\\00b7\"; padding: 0 .5ex}\n",
       "</style>\n",
       "<ol class=list-inline><li>1.10644031258421</li><li>0.870401663850254</li><li>0.62067316886594</li></ol>\n",
       "</dd>\n",
       "\t<dt>$`mirvThresh=0.8`</dt>\n",
       "\t\t<dd><style>\n",
       ".list-inline {list-style: none; margin:0; padding: 0}\n",
       ".list-inline>li {display: inline-block}\n",
       ".list-inline>li:not(:last-child)::after {content: \"\\00b7\"; padding: 0 .5ex}\n",
       "</style>\n",
       "<ol class=list-inline><li>1.49851791969819</li><li>1.10308072273495</li><li>0.748995983935743</li></ol>\n",
       "</dd>\n",
       "\t<dt>$`mirvThresh=0.9`</dt>\n",
       "\t\t<dd><style>\n",
       ".list-inline {list-style: none; margin:0; padding: 0}\n",
       ".list-inline>li {display: inline-block}\n",
       ".list-inline>li:not(:last-child)::after {content: \"\\00b7\"; padding: 0 .5ex}\n",
       "</style>\n",
       "<ol class=list-inline><li>1.767987065481</li><li>1.21058104770571</li><li>0.867565500095621</li></ol>\n",
       "</dd>\n",
       "\t<dt>$`mirvThresh=1`</dt>\n",
       "\t\t<dd><style>\n",
       ".list-inline {list-style: none; margin:0; padding: 0}\n",
       ".list-inline>li {display: inline-block}\n",
       ".list-inline>li:not(:last-child)::after {content: \"\\00b7\"; padding: 0 .5ex}\n",
       "</style>\n",
       "<ol class=list-inline><li>1.9749393694422</li><li>1.37384635382816</li><li>1.01558615414037</li></ol>\n",
       "</dd>\n",
       "</dl>\n"
      ],
      "text/latex": [
       "\\begin{description}\n",
       "\\item[\\$`mirvThresh=0.2`] \\begin{enumerate*}\n",
       "\\item 0.198868229587712\n",
       "\\item 0.182373586377226\n",
       "\\item 0.181487856186651\n",
       "\\end{enumerate*}\n",
       "\n",
       "\\item[\\$`mirvThresh=0.3`] \\begin{enumerate*}\n",
       "\\item 0.0714093236324441\n",
       "\\item 0.0670739633432991\n",
       "\\item 0.0637789252247084\n",
       "\\end{enumerate*}\n",
       "\n",
       "\\item[\\$`mirvThresh=0.5`] \\begin{enumerate*}\n",
       "\\item 0.454324979789814\n",
       "\\item 0.352658260756532\n",
       "\\item 0.263625932300631\n",
       "\\end{enumerate*}\n",
       "\n",
       "\\item[\\$`mirvThresh=0.6`] \\begin{enumerate*}\n",
       "\\item 0.740501212611156\n",
       "\\item 0.644352008319251\n",
       "\\item 0.443775100401606\n",
       "\\end{enumerate*}\n",
       "\n",
       "\\item[\\$`mirvThresh=0.7`] \\begin{enumerate*}\n",
       "\\item 1.10644031258421\n",
       "\\item 0.870401663850254\n",
       "\\item 0.62067316886594\n",
       "\\end{enumerate*}\n",
       "\n",
       "\\item[\\$`mirvThresh=0.8`] \\begin{enumerate*}\n",
       "\\item 1.49851791969819\n",
       "\\item 1.10308072273495\n",
       "\\item 0.748995983935743\n",
       "\\end{enumerate*}\n",
       "\n",
       "\\item[\\$`mirvThresh=0.9`] \\begin{enumerate*}\n",
       "\\item 1.767987065481\n",
       "\\item 1.21058104770571\n",
       "\\item 0.867565500095621\n",
       "\\end{enumerate*}\n",
       "\n",
       "\\item[\\$`mirvThresh=1`] \\begin{enumerate*}\n",
       "\\item 1.9749393694422\n",
       "\\item 1.37384635382816\n",
       "\\item 1.01558615414037\n",
       "\\end{enumerate*}\n",
       "\n",
       "\\end{description}\n"
      ],
      "text/markdown": [
       "$`mirvThresh=0.2`\n",
       ":   1. 0.198868229587712\n",
       "2. 0.182373586377226\n",
       "3. 0.181487856186651\n",
       "\n",
       "\n",
       "\n",
       "$`mirvThresh=0.3`\n",
       ":   1. 0.0714093236324441\n",
       "2. 0.0670739633432991\n",
       "3. 0.0637789252247084\n",
       "\n",
       "\n",
       "\n",
       "$`mirvThresh=0.5`\n",
       ":   1. 0.454324979789814\n",
       "2. 0.352658260756532\n",
       "3. 0.263625932300631\n",
       "\n",
       "\n",
       "\n",
       "$`mirvThresh=0.6`\n",
       ":   1. 0.740501212611156\n",
       "2. 0.644352008319251\n",
       "3. 0.443775100401606\n",
       "\n",
       "\n",
       "\n",
       "$`mirvThresh=0.7`\n",
       ":   1. 1.10644031258421\n",
       "2. 0.870401663850254\n",
       "3. 0.62067316886594\n",
       "\n",
       "\n",
       "\n",
       "$`mirvThresh=0.8`\n",
       ":   1. 1.49851791969819\n",
       "2. 1.10308072273495\n",
       "3. 0.748995983935743\n",
       "\n",
       "\n",
       "\n",
       "$`mirvThresh=0.9`\n",
       ":   1. 1.767987065481\n",
       "2. 1.21058104770571\n",
       "3. 0.867565500095621\n",
       "\n",
       "\n",
       "\n",
       "$`mirvThresh=1`\n",
       ":   1. 1.9749393694422\n",
       "2. 1.37384635382816\n",
       "3. 1.01558615414037\n",
       "\n",
       "\n",
       "\n",
       "\n",
       "\n"
      ],
      "text/plain": [
       "$`mirvThresh=0.2`\n",
       "[1] 0.1988682 0.1823736 0.1814879\n",
       "\n",
       "$`mirvThresh=0.3`\n",
       "[1] 0.07140932 0.06707396 0.06377893\n",
       "\n",
       "$`mirvThresh=0.5`\n",
       "[1] 0.4543250 0.3526583 0.2636259\n",
       "\n",
       "$`mirvThresh=0.6`\n",
       "[1] 0.7405012 0.6443520 0.4437751\n",
       "\n",
       "$`mirvThresh=0.7`\n",
       "[1] 1.1064403 0.8704017 0.6206732\n",
       "\n",
       "$`mirvThresh=0.8`\n",
       "[1] 1.498518 1.103081 0.748996\n",
       "\n",
       "$`mirvThresh=0.9`\n",
       "[1] 1.7679871 1.2105810 0.8675655\n",
       "\n",
       "$`mirvThresh=1`\n",
       "[1] 1.974939 1.373846 1.015586\n"
      ]
     },
     "metadata": {},
     "output_type": "display_data"
    },
    {
     "ename": "ERROR",
     "evalue": "\u001b[1m\u001b[33mError\u001b[39m in `pivot_longer()`:\u001b[22m\n\u001b[1m\u001b[22m\u001b[33m!\u001b[39m `cols` must select at least one column.\n",
     "output_type": "error",
     "traceback": [
      "\u001b[1m\u001b[33mError\u001b[39m in `pivot_longer()`:\u001b[22m\n\u001b[1m\u001b[22m\u001b[33m!\u001b[39m `cols` must select at least one column.\nTraceback:\n",
      "1. pivot_longer(df, cols = starts_with(\"mirv\"), names_to = \"Threshold\", \n .     values_to = \"Distance\")",
      "2. pivot_longer.data.frame(df, cols = starts_with(\"mirv\"), names_to = \"Threshold\", \n .     values_to = \"Distance\")",
      "3. build_longer_spec(data = data, cols = {\n .     {\n .         cols\n .     }\n . }, names_to = names_to, values_to = values_to, names_prefix = names_prefix, \n .     names_sep = names_sep, names_pattern = names_pattern, names_ptypes = names_ptypes, \n .     names_transform = names_transform, error_call = current_env())",
      "4. cli::cli_abort(\"{.arg cols} must select at least one column.\", \n .     call = error_call)",
      "5. rlang::abort(message, ..., call = call, use_cli_format = TRUE, \n .     .frame = .frame)",
      "6. signal_abort(cnd, .file)"
     ]
    }
   ],
   "source": [
    "distmirv2 <- lapply(mirvNodes, function(nodes) {\n",
    "    sapply(seq_along(nodes), function(i) compNodes(n2 = nodes[[i]], n1 = defaultNodes[[i]], treeCons)[[5]])\n",
    "})\n",
    "distmirv2\n",
    "dfMirv <- pivot_longer(df, cols = starts_with(\"mirv\"), # select columns starting with \"day\"\n",
    "                        names_to = \"Threshold\", # new column for day labels\n",
    "                        values_to = \"Distance\" # new column for values\n",
    ")\n",
    "dfMirv <- dfMirv %>% mutate(FDR=factor(rep(c(0.01, 0.05, 0.1), each = ncol(df))),\n",
    "                           Thresh = gsub(\"mirvThresh.\", \"\", Threshold))\n",
    "size <- 18\n",
    "pMirv <- ggplot(dfMirv, aes(x = Thresh, y = Distance, color = FDR, shape = FDR)) +\n",
    "    geom_point(size=5) +\n",
    "    theme_bw() +\n",
    "    labs(title = \"Distance between the nodes obtained at default threshold \\n and varying mIrvThresh\",\n",
    "        color = \"Nominal FDR\",\n",
    "        shape = \"Nominal FDR\",\n",
    "        x=\"mIrvThresh\") +\n",
    "    theme(plot.title = element_text(size = size - 1),\n",
    "        axis.text = element_text(size = size),\n",
    "        axis.title = element_text(size = size),\n",
    "        legend.text = element_text(size = size),\n",
    "        legend.title = element_text(size = size),\n",
    "        legend.position = \"bottom\") +\n",
    "    guides(fill = \"none\")"
   ]
  },
  {
   "cell_type": "code",
   "execution_count": 16,
   "id": "a5ed8242",
   "metadata": {},
   "outputs": [
    {
     "data": {
      "image/png": "[encoded data removed]",
      "text/plain": [
       "plot without title"
      ]
     },
     "metadata": {
      "image/png": {
       "height": 480,
       "width": 840
      }
     },
     "output_type": "display_data"
    }
   ],
   "source": [
    "options(repr.plot.width=14, repr.plot.height=8)\n",
    "ggarrange(pMinP, pMirv, common.legend = T, legend = \"bottom\", labels = c(\"A)\", \"B)\"),\n",
    "         font.label=list(size=size, face=\"plain\"), hjust=-0.5)"
   ]
  },
  {
   "cell_type": "code",
   "execution_count": 30,
   "id": "79262432",
   "metadata": {},
   "outputs": [],
   "source": [
    "distminP <- lapply(minPNodes, function(nodes) {\n",
    "    sapply(seq_along(nodes), function(i) {\n",
    "        d1 <- compNodes(n1 = nodes[[i]], n2 = defaultNodes[[i]], treeCons)[[5]]\n",
    "        d2 <- compNodes(n2 = nodes[[i]], n1 = defaultNodes[[i]], treeCons)[[5]]\n",
    "        (d1+d2)/2\n",
    "    })\n",
    "})"
   ]
  },
  {
   "cell_type": "code",
   "execution_count": 40,
   "id": "c8911a55",
   "metadata": {},
   "outputs": [],
   "source": [
    "df <- data.frame(distminP)\n",
    "dfMinP <- pivot_longer(df, cols = starts_with(\"minP\"), # select columns starting with \"day\"\n",
    "                        names_to = \"Threshold\", # new column for day labels\n",
    "                        values_to = \"Distance\" # new column for values\n",
    ")\n",
    "dfMinP <- dfMinP %>% mutate(FDR=factor(rep(c(0.01, 0.05, 0.1), each = ncol(df))),\n",
    "                           Thresh = gsub(\"minP.\", \"\", Threshold))\n",
    "size <- 18\n",
    "pMinP <- ggplot(dfMinP, aes(x = Thresh, y = Distance, color = factor(FDR), shape = FDR)) +\n",
    "    geom_point(size=5) +\n",
    "    theme_bw() +\n",
    "    labs(title = \"Distance between the nodes obtained at default threshold \\n and varying minP\",\n",
    "        color = \"Nominal FDR\",\n",
    "        shape = \"Nominal FDR\",\n",
    "        x=\"minP\") +\n",
    "    theme(plot.title = element_text(size = size - 1),\n",
    "        axis.text = element_text(size = size),\n",
    "        axis.title = element_text(size = size),\n",
    "        legend.text = element_text(size = size),\n",
    "        legend.title = element_text(size = size),\n",
    "        legend.position = \"bottom\") +\n",
    "    guides(fill = \"none\")"
   ]
  },
  {
   "cell_type": "code",
   "execution_count": 19,
   "id": "addb783c",
   "metadata": {},
   "outputs": [],
   "source": [
    "distmirv <- lapply(mirvNodes, function(nodes) {\n",
    "    sapply(seq_along(nodes), function(i) {\n",
    "        d1 <- compNodes(n1 = nodes[[i]], n2 = defaultNodes[[i]], treeCons)[[5]]\n",
    "        d2 <- compNodes(n2 = nodes[[i]], n1 = defaultNodes[[i]], treeCons)[[5]]\n",
    "        (d1+d2)/2\n",
    "    })\n",
    "})"
   ]
  },
  {
   "cell_type": "code",
   "execution_count": 41,
   "id": "9f40834f",
   "metadata": {},
   "outputs": [],
   "source": [
    "size <- 18\n",
    "df <- data.frame(distmirv)\n",
    "\n",
    "dfMirv <- pivot_longer(df, cols = starts_with(\"mirv\"), # select columns starting with \"day\"\n",
    "                        names_to = \"Threshold\", # new column for day labels\n",
    "                        values_to = \"Distance\" # new column for values\n",
    "                        )\n",
    "dfMirv <- dfMirv %>% mutate(FDR=factor(rep(c(0.01, 0.05, 0.1), each = ncol(df))),\n",
    "                           Thresh = gsub(\"mirvThresh.\", \"\", Threshold))\n",
    "\n",
    "pMirv <- ggplot(dfMirv, aes(x = Thresh, y = Distance, color = FDR, shape = FDR)) +\n",
    "    geom_point(size=5) +\n",
    "    theme_bw() +\n",
    "    labs(title = \"Distance between the nodes obtained at default threshold \\n and varying mIrvThresh\",\n",
    "        color = \"Nominal FDR\",\n",
    "        shape = \"Nominal FDR\",\n",
    "        x=\"mIrvThresh\") +\n",
    "    theme(plot.title = element_text(size = size - 1),\n",
    "        axis.text = element_text(size = size),\n",
    "        axis.title = element_text(size = size),\n",
    "        legend.text = element_text(size = size),\n",
    "        legend.title = element_text(size = size),\n",
    "        legend.position = \"bottom\") +\n",
    "    guides(fill = \"none\")"
   ]
  },
  {
   "cell_type": "code",
   "execution_count": 42,
   "id": "12e9000b",
   "metadata": {},
   "outputs": [
    {
     "data": {
      "image/png": "[encoded data removed]",
      "text/plain": [
       "plot without title"
      ]
     },
     "metadata": {
      "image/png": {
       "height": 480,
       "width": 840
      }
     },
     "output_type": "display_data"
    }
   ],
   "source": [
    "options(repr.plot.width=14, repr.plot.height=8)\n",
    "ggarrange(pMinP, pMirv, common.legend = T, legend = \"bottom\", labels = c(\"A)\", \"B)\"),\n",
    "         font.label=list(size=size, face=\"plain\"), hjust=-0.5)"
   ]
  },
  {
   "cell_type": "code",
   "execution_count": null,
   "id": "f89d667b",
   "metadata": {},
   "outputs": [],
   "source": []
  }
 ],
 "metadata": {
  "kernelspec": {
   "display_name": "R",
   "language": "R",
   "name": "ir"
  },
  "language_info": {
   "codemirror_mode": "r",
   "file_extension": ".r",
   "mimetype": "text/x-r-source",
   "name": "R",
   "pygments_lexer": "r",
   "version": "4.3.2"
  }
 },
 "nbformat": 4,
 "nbformat_minor": 5
}
