{
 "cells": [
  {
   "cell_type": "markdown",
   "id": "cb11924b",
   "metadata": {},
   "source": [
    "#### Loading data"
   ]
  },
  {
   "cell_type": "code",
   "execution_count": 2,
   "id": "33a6dcab",
   "metadata": {},
   "outputs": [
    {
     "name": "stderr",
     "output_type": "stream",
     "text": [
      "reading tree\n",
      "\n",
      "importing quantifications\n",
      "\n",
      "reading in files with read_tsv\n",
      "\n",
      "1 \n",
      "2 \n",
      "3 \n",
      "4 \n",
      "5 \n",
      "6 \n",
      "7 \n",
      "8 \n",
      "9 \n",
      "10 \n",
      "11 \n",
      "12 \n",
      "\n",
      "\n",
      "found matching transcriptome:\n",
      "[ GENCODE - Mus musculus - release M25 ]\n",
      "\n",
      "loading existing TxDb created: 2023-02-17 18:26:37\n",
      "\n",
      "Loading required package: GenomicFeatures\n",
      "\n",
      "Loading required package: BiocGenerics\n",
      "\n",
      "\n",
      "Attaching package: 'BiocGenerics'\n",
      "\n",
      "\n",
      "The following objects are masked from 'package:stats':\n",
      "\n",
      "    IQR, mad, sd, var, xtabs\n",
      "\n",
      "\n",
      "The following objects are masked from 'package:base':\n",
      "\n",
      "    anyDuplicated, append, as.data.frame, basename, cbind, colnames,\n",
      "    dirname, do.call, duplicated, eval, evalq, Filter, Find, get, grep,\n",
      "    grepl, intersect, is.unsorted, lapply, Map, mapply, match, mget,\n",
      "    order, paste, pmax, pmax.int, pmin, pmin.int, Position, rank,\n",
      "    rbind, Reduce, rownames, sapply, setdiff, sort, table, tapply,\n",
      "    union, unique, unsplit, which.max, which.min\n",
      "\n",
      "\n",
      "Loading required package: S4Vectors\n",
      "\n",
      "Loading required package: stats4\n",
      "\n",
      "\n",
      "Attaching package: 'S4Vectors'\n",
      "\n",
      "\n",
      "The following objects are masked from 'package:base':\n",
      "\n",
      "    expand.grid, I, unname\n",
      "\n",
      "\n",
      "Loading required package: IRanges\n",
      "\n",
      "Loading required package: GenomeInfoDb\n",
      "\n",
      "Loading required package: GenomicRanges\n",
      "\n",
      "Loading required package: AnnotationDbi\n",
      "\n",
      "Loading required package: Biobase\n",
      "\n",
      "Welcome to Bioconductor\n",
      "\n",
      "    Vignettes contain introductory material; view with\n",
      "    'browseVignettes()'. To cite Bioconductor, see\n",
      "    'citation(\"Biobase\")', and for packages 'citation(\"pkgname\")'.\n",
      "\n",
      "\n",
      "loading existing transcript ranges created: 2023-02-17 18:26:39\n",
      "\n",
      "fetching genome info for GENCODE\n",
      "\n",
      "Missing txps 2380\n",
      "\n",
      "Aggregation Started\n",
      "\n",
      "Aggregation Ended\n",
      "\n",
      "Setting inf rep depth to mean depth\n",
      "\n"
     ]
    },
    {
     "name": "stdout",
     "output_type": "stream",
     "text": [
      "Progress:   1 on 100Progress:   2 on 100Progress:   3 on 100Progress:   4 on 100Progress:   5 on 100Progress:   6 on 100Progress:   7 on 100Progress:   8 on 100Progress:   9 on 100Progress:  10 on 100Progress:  11 on 100Progress:  12 on 100Progress:  13 on 100Progress:  14 on 100Progress:  15 on 100Progress:  16 on 100Progress:  17 on 100Progress:  18 on 100Progress:  19 on 100Progress:  20 on 100Progress:  21 on 100Progress:  22 on 100Progress:  23 on 100Progress:  24 on 100Progress:  25 on 100Progress:  26 on 100Progress:  27 on 100Progress:  28 on 100Progress:  29 on 100Progress:  30 on 100Progress:  31 on 100Progress:  32 on 100Progress:  33 on 100Progress:  34 on 100Progress:  35 on 100Progress:  36 on 100Progress:  37 on 100Progress:  38 on 100Progress:  39 on 100Progress:  40 on 100Progress:  41 on 100Progress:  42 on 100Progress:  43 on 100Progress:  44 on 100Progress:  45 on 100Progress:  46 on 100Progress:  47 on 100Progress:  48 on 100Progress:  49 on 100Progress:  50 on 100Progress:  51 on 100Progress:  52 on 100Progress:  53 on 100Progress:  54 on 100Progress:  55 on 100Progress:  56 on 100Progress:  57 on 100Progress:  58 on 100Progress:  59 on 100Progress:  60 on 100Progress:  61 on 100Progress:  62 on 100Progress:  63 on 100Progress:  64 on 100Progress:  65 on 100Progress:  66 on 100Progress:  67 on 100Progress:  68 on 100Progress:  69 on 100Progress:  70 on 100Progress:  71 on 100Progress:  72 on 100Progress:  73 on 100Progress:  74 on 100Progress:  75 on 100Progress:  76 on 100Progress:  77 on 100Progress:  78 on 100Progress:  79 on 100Progress:  80 on 100Progress:  81 on 100Progress:  82 on 100Progress:  83 on 100Progress:  84 on 100Progress:  85 on 100Progress:  86 on 100Progress:  87 on 100Progress:  88 on 100Progress:  89 on 100Progress:  90 on 100Progress:  91 on 100Progress:  92 on 100Progress:  93 on 100Progress:  94 on 100Progress:  95 on 100Progress:  96 on 100Progress:  97 on 100Progress:  98 on 100Progress:  99 on 100Progress: 100 on 100  "
     ]
    },
    {
     "name": "stderr",
     "output_type": "stream",
     "text": [
      "\n",
      "\n"
     ]
    }
   ],
   "source": [
    "suppressPackageStartupMessages(library(TreeSummarizedExperiment))\n",
    "suppressPackageStartupMessages(library(ape))\n",
    "suppressPackageStartupMessages(library(phangorn))\n",
    "metaData <- read.delim(\"/fs/cbcb-lab/rob/students/noor/Uncertainity/real_datasets/GSE100505_EDL_MAST/SRR_Acc_List.txt\")\n",
    "quantDir <- \"/fs/cbcb-lab/rob/students/noor/Uncertainity/real_datasets/GSE100505_EDL_MAST/sal_out/mode_gcbias=True/posttype=gibbs_npost=100_tf=100\"\n",
    "samples <- metaData$RUN\n",
    "files <- file.path(quantDir, samples, \"quant.sf\")\n",
    "colData <- cbind(data.frame(files = files, names = samples), condition = as.factor(metaData$TissueName))\n",
    "\n",
    "saveDir <- \"../environment/mouseMuscle\"\n",
    "clustFile <- \"/fs/cbcb-lab/rob/students/noor/Uncertainity/real_datasets/GSE100505_EDL_MAST/term_out/mode_gcbias=True/posttype=gibbs_npost=100_tf=100/no_threshold0/cluster_nwk.txt\"\n",
    "\n",
    "tseCons <- beaveR::buildTSE(treeTermFile = clustFile, coldata = colData)\n",
    "treeCons <- rowTree(tseCons)\n",
    "l <- length(treeCons$tip)\n",
    "\n",
    "yAll <- beaveR::computeSizeFactors(tseCons)\n",
    "yAll <- beaveR::scInfReps(yAll)\n",
    "yAll <- fishpond::labelKeep(yAll)\n",
    "metadata(yAll)[[\"infRepsScaled\"]] <- TRUE\n",
    "\n",
    "seMuscle <- tximeta::tximeta(colData)\n",
    "load(file.path(saveDir, \"detNodes.RData\"))"
   ]
  },
  {
   "cell_type": "code",
   "execution_count": 28,
   "id": "588da4e3",
   "metadata": {},
   "outputs": [],
   "source": [
    "termFile <- \"/fs/cbcb-lab/rob/students/noor/Uncertainity/real_datasets/GSE100505_EDL_MAST/term_out/mode_gcbias=True/posttype=gibbs_npost=100_tf=100/old/SRR5758630/clusters.txt\"\n",
    "suppressPackageStartupMessages(source(\"../terminus_helper.R\"))\n",
    "yTermThrNS <- tseCons[1:l,]\n",
    "groupsClust <- parseClustFile(termFile, yTermThrNS)\n",
    "mInds <- seq(nrow(yTermThrNS) + length(groupsClust))\n",
    "yAggTermThrNS <- prepTerm(yTermThrNS, mInds, groupsClust)"
   ]
  },
  {
   "cell_type": "markdown",
   "id": "dd141a92",
   "metadata": {},
   "source": [
    "#### Differentially expressed transcripts"
   ]
  },
  {
   "cell_type": "code",
   "execution_count": 13,
   "id": "b02b10b8",
   "metadata": {},
   "outputs": [
    {
     "data": {
      "text/html": [
       "<style>\n",
       ".list-inline {list-style: none; margin:0; padding: 0}\n",
       ".list-inline>li {display: inline-block}\n",
       ".list-inline>li:not(:last-child)::after {content: \"\\00b7\"; padding: 0 .5ex}\n",
       "</style>\n",
       "<ol class=list-inline><li>3149</li><li>6849</li><li>9592</li></ol>\n"
      ],
      "text/latex": [
       "\\begin{enumerate*}\n",
       "\\item 3149\n",
       "\\item 6849\n",
       "\\item 9592\n",
       "\\end{enumerate*}\n"
      ],
      "text/markdown": [
       "1. 3149\n",
       "2. 6849\n",
       "3. 9592\n",
       "\n",
       "\n"
      ],
      "text/plain": [
       "[1] 3149 6849 9592"
      ]
     },
     "metadata": {},
     "output_type": "display_data"
    }
   ],
   "source": [
    "dTxps <- lapply(detNodes[[\"Txps\"]], function(txps) rownames(tseCons)[txps])\n",
    "sapply(dTxps, length)"
   ]
  },
  {
   "cell_type": "markdown",
   "id": "79f32c64",
   "metadata": {},
   "source": [
    "#### Genes Mapping to those transcripts"
   ]
  },
  {
   "cell_type": "code",
   "execution_count": 14,
   "id": "96c0a23d",
   "metadata": {},
   "outputs": [
    {
     "data": {
      "text/html": [
       "<style>\n",
       ".list-inline {list-style: none; margin:0; padding: 0}\n",
       ".list-inline>li {display: inline-block}\n",
       ".list-inline>li:not(:last-child)::after {content: \"\\00b7\"; padding: 0 .5ex}\n",
       "</style>\n",
       "<ol class=list-inline><li>2685</li><li>5391</li><li>7121</li></ol>\n"
      ],
      "text/latex": [
       "\\begin{enumerate*}\n",
       "\\item 2685\n",
       "\\item 5391\n",
       "\\item 7121\n",
       "\\end{enumerate*}\n"
      ],
      "text/markdown": [
       "1. 2685\n",
       "2. 5391\n",
       "3. 7121\n",
       "\n",
       "\n"
      ],
      "text/plain": [
       "[1] 2685 5391 7121"
      ]
     },
     "metadata": {},
     "output_type": "display_data"
    }
   ],
   "source": [
    "mapDf <- rowData(seMuscle)\n",
    "txpGenes <- lapply(dTxps, function(txps) unique(unlist(mapDf[txps, \"gene_id\"])))##Genes that map to transcripts\n",
    "sapply(txpGenes, length)"
   ]
  },
  {
   "cell_type": "markdown",
   "id": "f00d71bc",
   "metadata": {},
   "source": [
    "#### Differentially expressed genes"
   ]
  },
  {
   "cell_type": "code",
   "execution_count": 18,
   "id": "4eea2b67",
   "metadata": {},
   "outputs": [
    {
     "name": "stderr",
     "output_type": "stream",
     "text": [
      "loading existing TxDb created: 2023-02-17 18:26:37\n",
      "\n",
      "obtaining transcript-to-gene mapping from database\n",
      "\n",
      "loading existing gene ranges created: 2023-02-21 05:37:24\n",
      "\n",
      "summarizing abundance\n",
      "\n",
      "summarizing counts\n",
      "\n",
      "summarizing length\n",
      "\n",
      "summarizing inferential replicates\n",
      "\n"
     ]
    },
    {
     "data": {
      "text/html": [
       "<style>\n",
       ".list-inline {list-style: none; margin:0; padding: 0}\n",
       ".list-inline>li {display: inline-block}\n",
       ".list-inline>li:not(:last-child)::after {content: \"\\00b7\"; padding: 0 .5ex}\n",
       "</style>\n",
       "<ol class=list-inline><li>2535</li><li>4494</li><li>5814</li></ol>\n"
      ],
      "text/latex": [
       "\\begin{enumerate*}\n",
       "\\item 2535\n",
       "\\item 4494\n",
       "\\item 5814\n",
       "\\end{enumerate*}\n"
      ],
      "text/markdown": [
       "1. 2535\n",
       "2. 4494\n",
       "3. 5814\n",
       "\n",
       "\n"
      ],
      "text/plain": [
       "[1] 2535 4494 5814"
      ]
     },
     "metadata": {},
     "output_type": "display_data"
    }
   ],
   "source": [
    "gse <- tximeta::summarizeToGene(seMuscle)\n",
    "dges <- lapply(detNodes[[\"Genes\"]], function(genes) rownames(gse)[genes])\n",
    "sapply(dges,length)"
   ]
  },
  {
   "cell_type": "markdown",
   "id": "9dbe25a5",
   "metadata": {},
   "source": [
    "#### Genes that are considered differentially expressed in genes but dont contain a single differentially expressed transcript"
   ]
  },
  {
   "cell_type": "code",
   "execution_count": 19,
   "id": "e38694f0",
   "metadata": {},
   "outputs": [
    {
     "data": {
      "text/html": [
       "<style>\n",
       ".list-inline {list-style: none; margin:0; padding: 0}\n",
       ".list-inline>li {display: inline-block}\n",
       ".list-inline>li:not(:last-child)::after {content: \"\\00b7\"; padding: 0 .5ex}\n",
       "</style>\n",
       "<ol class=list-inline><li>685</li><li>839</li><li>907</li></ol>\n"
      ],
      "text/latex": [
       "\\begin{enumerate*}\n",
       "\\item 685\n",
       "\\item 839\n",
       "\\item 907\n",
       "\\end{enumerate*}\n"
      ],
      "text/markdown": [
       "1. 685\n",
       "2. 839\n",
       "3. 907\n",
       "\n",
       "\n"
      ],
      "text/plain": [
       "[1] 685 839 907"
      ]
     },
     "metadata": {},
     "output_type": "display_data"
    },
    {
     "data": {
      "text/html": [
       "<style>\n",
       ".list-inline {list-style: none; margin:0; padding: 0}\n",
       ".list-inline>li {display: inline-block}\n",
       ".list-inline>li:not(:last-child)::after {content: \"\\00b7\"; padding: 0 .5ex}\n",
       "</style>\n",
       "<ol class=list-inline><li>835</li><li>1736</li><li>2214</li></ol>\n"
      ],
      "text/latex": [
       "\\begin{enumerate*}\n",
       "\\item 835\n",
       "\\item 1736\n",
       "\\item 2214\n",
       "\\end{enumerate*}\n"
      ],
      "text/markdown": [
       "1. 835\n",
       "2. 1736\n",
       "3. 2214\n",
       "\n",
       "\n"
      ],
      "text/plain": [
       "[1]  835 1736 2214"
      ]
     },
     "metadata": {},
     "output_type": "display_data"
    }
   ],
   "source": [
    "diffGenes <- lapply(seq_along(dges), function(i) setdiff(dges[[i]], txpGenes[[i]])) ## Txps that are missing in differential transcripts mapping to genes\n",
    "sapply(diffGenes, length)\n",
    "diffGenes2 <- lapply(seq_along(dges), function(i) setdiff(txpGenes[[i]], dges[[i]])) ## Txps that are missing in differential transcripts mapping to genes                    \n",
    "sapply(diffGenes2, length)\n",
    "# sum(mcols(y)[unlist(mcols(yg)[diffGenes[[2]],\"tx_ids\"]), \"qvalue\"] < 0.05, na.rm=T)==0 ## None of the diffGenes should contain a differential transcript"
   ]
  },
  {
   "cell_type": "markdown",
   "id": "d51580b4",
   "metadata": {},
   "source": [
    "#### Height of the nodes in treeclimbR and trenDi"
   ]
  },
  {
   "cell_type": "code",
   "execution_count": 24,
   "id": "a60b570c",
   "metadata": {},
   "outputs": [
    {
     "data": {
      "text/plain": [
       "[[1]]\n",
       "\n",
       "   1    2    3    4    5    6    7    8    9   10   11 \n",
       "2491  249   75   34   28   17    7    4    2    1    1 \n",
       "\n",
       "[[2]]\n",
       "\n",
       "   1    2    3    4    5    6    7    8    9   10   11   12   13 \n",
       "5259  485  192   57   56   36   13    7    3    3    1    1    1 \n",
       "\n",
       "[[3]]\n",
       "\n",
       "   1    2    3    4    5    6    7    8    9   10   11   12   13 \n",
       "7449  580  231   76   61   39   15    9    4    3    1    1    1 \n"
      ]
     },
     "metadata": {},
     "output_type": "display_data"
    },
    {
     "data": {
      "text/plain": [
       "[[1]]\n",
       "\n",
       "   1    2    3    4    5    6    7    8    9   10   11 \n",
       "2522  651  295  134   59   28    8    7    4    1    2 \n",
       "\n",
       "[[2]]\n",
       "\n",
       "   1    2    3    4    5    6    7    8    9   10   11   13 \n",
       "5406 1285  555  252  107   46   20   11    4    1    3    3 \n",
       "\n",
       "[[3]]\n",
       "\n",
       "   1    2    3    4    5    6    7    8    9   10   11   12   13 \n",
       "7500 1698  696  308  130   62   31   17    6    4    3    1    2 \n"
      ]
     },
     "metadata": {},
     "output_type": "display_data"
    }
   ],
   "source": [
    "lapply(detNodes$`treeClimbR(N)`, function(nodes) table(node.depth(treeCons,2)[nodes]))\n",
    "lapply(detNodes$trenDi, function(nodes) table(node.depth(treeCons,2)[nodes]))"
   ]
  },
  {
   "cell_type": "markdown",
   "id": "2daaebad",
   "metadata": {},
   "source": [
    "#### Transcripts mapping to the features"
   ]
  },
  {
   "cell_type": "code",
   "execution_count": 36,
   "id": "92fb7750",
   "metadata": {},
   "outputs": [],
   "source": [
    "j <- 1\n",
    "treeDETxps <- rownames(tseCons)[unlist(Descendants(treeCons, detNodes[[\"trenDi\"]][[j]]))]\n",
    "treeClimbTxps <- rownames(tseCons)[detNodes[[\"treeClimbR(L)\"]][[j]]]\n",
    "\n",
    "dN <- detNodes[[\"Terminus\"]][[j]]\n",
    "\n",
    "termTxps <- c(rownames(yTermThrNS)[dN][startsWith(rownames(yAggTermThrNS)[dN], \"ENS\")],\n",
    "  rownames(yAggTermThrNS)[as.numeric(unlist(groupsClust[rownames(yAggTermThrNS)[dN][!startsWith(rownames(yAggTermThrNS)[dN], \"ENS\")]]))])"
   ]
  },
  {
   "cell_type": "code",
   "execution_count": 37,
   "id": "5e16a751",
   "metadata": {},
   "outputs": [
    {
     "data": {
      "image/png": "[encoded data removed]",
      "text/plain": [
       "plot without title"
      ]
     },
     "metadata": {
      "image/png": {
       "height": 600,
       "width": 1980
      }
     },
     "output_type": "display_data"
    }
   ],
   "source": [
    "options(repr.plot.width=33, repr.plot.height=10)\n",
    "suppressPackageStartupMessages(library(UpSetR))\n",
    "txpMethods = list(Txps = rownames(tseCons)[detNodes[[\"Txps\"]][[j]]], \n",
    "                 trenDi = treeDETxps, \n",
    "                 treeclimbR = treeClimbTxps, \n",
    "                 Terminus = termTxps\n",
    "                 )\n",
    "upsetData <- fromList(txpMethods)\n",
    "size <- 3\n",
    "upset(upsetData, order.by = \"freq\",\n",
    "     main.bar.color = \"#377eb8\", \n",
    "     matrix.color = \"#e41a1c\",\n",
    "     sets.bar.color = c(\"#ff7f00\"),\n",
    "     sets.x.label = \"Transcripts covered by the different methods\",\n",
    "     shade.alpha = 0.7, \n",
    "     text.scale = c(size, size, size, size, size, size)\n",
    ")"
   ]
  },
  {
   "cell_type": "code",
   "execution_count": 39,
   "id": "09f89fc8",
   "metadata": {},
   "outputs": [
    {
     "data": {
      "text/html": [
       "<style>\n",
       ".list-inline {list-style: none; margin:0; padding: 0}\n",
       ".list-inline>li {display: inline-block}\n",
       ".list-inline>li:not(:last-child)::after {content: \"\\00b7\"; padding: 0 .5ex}\n",
       "</style>\n",
       "<ol class=list-inline><li>2909</li><li>6114</li><li>8470</li></ol>\n"
      ],
      "text/latex": [
       "\\begin{enumerate*}\n",
       "\\item 2909\n",
       "\\item 6114\n",
       "\\item 8470\n",
       "\\end{enumerate*}\n"
      ],
      "text/markdown": [
       "1. 2909\n",
       "2. 6114\n",
       "3. 8470\n",
       "\n",
       "\n"
      ],
      "text/plain": [
       "[1] 2909 6114 8470"
      ]
     },
     "metadata": {},
     "output_type": "display_data"
    },
    {
     "data": {
      "text/html": [
       "<style>\n",
       ".list-inline {list-style: none; margin:0; padding: 0}\n",
       ".list-inline>li {display: inline-block}\n",
       ".list-inline>li:not(:last-child)::after {content: \"\\00b7\"; padding: 0 .5ex}\n",
       "</style>\n",
       "<ol class=list-inline><li>3711</li><li>7693</li><li>10458</li></ol>\n"
      ],
      "text/latex": [
       "\\begin{enumerate*}\n",
       "\\item 3711\n",
       "\\item 7693\n",
       "\\item 10458\n",
       "\\end{enumerate*}\n"
      ],
      "text/markdown": [
       "1. 3711\n",
       "2. 7693\n",
       "3. 10458\n",
       "\n",
       "\n"
      ],
      "text/plain": [
       "[1]  3711  7693 10458"
      ]
     },
     "metadata": {},
     "output_type": "display_data"
    }
   ],
   "source": [
    "sapply(detNodes$`treeClimbR(N)`,length)\n",
    "sapply(detNodes$trenDi,length)"
   ]
  },
  {
   "cell_type": "markdown",
   "id": "b2e4bb2f",
   "metadata": {},
   "source": [
    "#### Genes mapping to the trenDi nodes and their number"
   ]
  },
  {
   "cell_type": "code",
   "execution_count": 52,
   "id": "491ec0fa",
   "metadata": {},
   "outputs": [
    {
     "data": {
      "text/html": [
       "<style>\n",
       ".list-inline {list-style: none; margin:0; padding: 0}\n",
       ".list-inline>li {display: inline-block}\n",
       ".list-inline>li:not(:last-child)::after {content: \"\\00b7\"; padding: 0 .5ex}\n",
       "</style>\n",
       "<ol class=list-inline><li>3255</li><li>6220</li><li>8010</li></ol>\n"
      ],
      "text/latex": [
       "\\begin{enumerate*}\n",
       "\\item 3255\n",
       "\\item 6220\n",
       "\\item 8010\n",
       "\\end{enumerate*}\n"
      ],
      "text/markdown": [
       "1. 3255\n",
       "2. 6220\n",
       "3. 8010\n",
       "\n",
       "\n"
      ],
      "text/plain": [
       "[1] 3255 6220 8010"
      ]
     },
     "metadata": {},
     "output_type": "display_data"
    },
    {
     "data": {
      "text/plain": [
       "[[1]]\n",
       "\n",
       "   1    2    3    5 \n",
       "3672   33    5    1 \n",
       "\n",
       "[[2]]\n",
       "\n",
       "   1    2    3    4 \n",
       "7625   56    8    4 \n",
       "\n",
       "[[3]]\n",
       "\n",
       "    1     2     3     4     7     9 \n",
       "10369    73     9     4     1     2 \n"
      ]
     },
     "metadata": {},
     "output_type": "display_data"
    }
   ],
   "source": [
    "trenDiNodes <- detNodes[[\"trenDi\"]]\n",
    "genesTrenDi <- lapply(trenDiNodes, function(nodes) {\n",
    "    lapply(Descendants(treeCons,nodes), function(desc) unique(unlist(mapDf[treeCons$tip[desc],\"gene_id\"])))})\n",
    "sapply(genesTrenDi, function(genes) length(unique(unlist(genes)))) ## Number of genes mapping to treeDE nodes\n",
    "sapply(genesTrenDi, function(nodes) table(sapply(nodes,length))) ## Distribution of number of genes and nodes"
   ]
  },
  {
   "cell_type": "markdown",
   "id": "602f90bc",
   "metadata": {},
   "source": [
    "#### Genes that map only to trenDi but are neither DE or covered by differential transcripts"
   ]
  },
  {
   "cell_type": "code",
   "execution_count": 54,
   "id": "39ffb44c",
   "metadata": {},
   "outputs": [
    {
     "data": {
      "text/html": [
       "<style>\n",
       ".list-inline {list-style: none; margin:0; padding: 0}\n",
       ".list-inline>li {display: inline-block}\n",
       ".list-inline>li:not(:last-child)::after {content: \"\\00b7\"; padding: 0 .5ex}\n",
       "</style>\n",
       "<ol class=list-inline><li>585</li><li>928</li><li>1009</li></ol>\n"
      ],
      "text/latex": [
       "\\begin{enumerate*}\n",
       "\\item 585\n",
       "\\item 928\n",
       "\\item 1009\n",
       "\\end{enumerate*}\n"
      ],
      "text/markdown": [
       "1. 585\n",
       "2. 928\n",
       "3. 1009\n",
       "\n",
       "\n"
      ],
      "text/plain": [
       "[1]  585  928 1009"
      ]
     },
     "metadata": {},
     "output_type": "display_data"
    },
    {
     "data": {
      "text/html": [
       "<style>\n",
       ".list-inline {list-style: none; margin:0; padding: 0}\n",
       ".list-inline>li {display: inline-block}\n",
       ".list-inline>li:not(:last-child)::after {content: \"\\00b7\"; padding: 0 .5ex}\n",
       "</style>\n",
       "<ol class=list-inline><li>231</li><li>382</li><li>390</li></ol>\n"
      ],
      "text/latex": [
       "\\begin{enumerate*}\n",
       "\\item 231\n",
       "\\item 382\n",
       "\\item 390\n",
       "\\end{enumerate*}\n"
      ],
      "text/markdown": [
       "1. 231\n",
       "2. 382\n",
       "3. 390\n",
       "\n",
       "\n"
      ],
      "text/plain": [
       "[1] 231 382 390"
      ]
     },
     "metadata": {},
     "output_type": "display_data"
    }
   ],
   "source": [
    "### Nodes that dont cotain a DET\n",
    "ll <- lapply(seq_along(trenDiNodes), function(i) {\n",
    "    desc <- Descendants(treeCons, trenDiNodes[[i]])\n",
    "    which(sapply(desc, function(txps) sum(txps %in% detNodes[[\"Txps\"]][[i]]) == 0))\n",
    "})\n",
    "\n",
    "### Nodes that DO NOT contain a single DE gene\n",
    "sapply(ll, length)\n",
    "nodesNotDE <- lapply(seq_along(ll), function(i) {\n",
    "    genesL <- genesTrenDi[[i]][ll[[i]]]\n",
    "    ll[[i]][sapply(genesL, function(genes) sum(genes %in% dges[[i]]) == 0)]\n",
    "})\n",
    "sapply(nodesNotDE, length)"
   ]
  },
  {
   "cell_type": "markdown",
   "id": "770f87a2",
   "metadata": {},
   "source": [
    "#### Genes belonging to trenDi nodes that intersect with differentially expressed genes which do not a single differentially expressed transcript"
   ]
  },
  {
   "cell_type": "code",
   "execution_count": 61,
   "id": "f6a4ec2a",
   "metadata": {},
   "outputs": [
    {
     "data": {
      "text/html": [
       "<style>\n",
       ".list-inline {list-style: none; margin:0; padding: 0}\n",
       ".list-inline>li {display: inline-block}\n",
       ".list-inline>li:not(:last-child)::after {content: \"\\00b7\"; padding: 0 .5ex}\n",
       "</style>\n",
       "<ol class=list-inline><li>309</li><li>428</li><li>465</li></ol>\n"
      ],
      "text/latex": [
       "\\begin{enumerate*}\n",
       "\\item 309\n",
       "\\item 428\n",
       "\\item 465\n",
       "\\end{enumerate*}\n"
      ],
      "text/markdown": [
       "1. 309\n",
       "2. 428\n",
       "3. 465\n",
       "\n",
       "\n"
      ],
      "text/plain": [
       "[1] 309 428 465"
      ]
     },
     "metadata": {},
     "output_type": "display_data"
    }
   ],
   "source": [
    "trenDiDegNodes <- lapply(seq_along(genesTrenDi), function(i) {\n",
    "    which(sapply(genesTrenDi[[i]], function(gs) sum(gs %in% diffGenes[[i]]) > 0))\n",
    "})\n",
    "sapply(trenDiDegNodes,length)\n",
    "save(trenDiDegNodes, file=file.path(saveDir, \"trenDiDegNodes.RData\"))"
   ]
  },
  {
   "cell_type": "markdown",
   "id": "9a37ce5a",
   "metadata": {},
   "source": [
    "##### Distribution of genes mapped to by such nodes in trenDi"
   ]
  },
  {
   "cell_type": "code",
   "execution_count": 67,
   "id": "0469ddf7",
   "metadata": {},
   "outputs": [
    {
     "data": {
      "text/plain": [
       "[[1]]\n",
       "\n",
       "  1   2 \n",
       "301   8 \n",
       "\n",
       "[[2]]\n",
       "\n",
       "  1   2   3 \n",
       "421   6   1 \n",
       "\n",
       "[[3]]\n",
       "\n",
       "  1   2   3 \n",
       "457   7   1 \n"
      ]
     },
     "metadata": {},
     "output_type": "display_data"
    }
   ],
   "source": [
    "sapply(seq_along(trenDiDegNodes), function(i) {\n",
    "    table(sapply(genesTrenDi[[i]][trenDiDegNodes[[i]]], function(gs) length(gs)))\n",
    "})"
   ]
  }
 ],
 "metadata": {
  "kernelspec": {
   "display_name": "R",
   "language": "R",
   "name": "ir"
  },
  "language_info": {
   "codemirror_mode": "r",
   "file_extension": ".r",
   "mimetype": "text/x-r-source",
   "name": "R",
   "pygments_lexer": "r",
   "version": "4.1.1"
  }
 },
 "nbformat": 4,
 "nbformat_minor": 5
}
