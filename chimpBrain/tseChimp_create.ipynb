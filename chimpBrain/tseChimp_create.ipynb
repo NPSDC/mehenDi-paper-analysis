{
 "cells": [
  {
   "cell_type": "markdown",
   "id": "3e76bfb8",
   "metadata": {},
   "source": [
    "#### Loading files and metadata"
   ]
  },
  {
   "cell_type": "code",
   "execution_count": 1,
   "id": "23df7b27",
   "metadata": {},
   "outputs": [],
   "source": [
    "suppressPackageStartupMessages(library(sva))\n",
    "suppressPackageStartupMessages(library(TreeSummarizedExperiment))\n",
    "suppressPackageStartupMessages(library(ggplot2))\n",
    "suppressPackageStartupMessages(library(dplyr))"
   ]
  },
  {
   "cell_type": "code",
   "execution_count": 2,
   "id": "4f5a8694",
   "metadata": {},
   "outputs": [
    {
     "data": {
      "text/html": [
       "TRUE"
      ],
      "text/latex": [
       "TRUE"
      ],
      "text/markdown": [
       "TRUE"
      ],
      "text/plain": [
       "[1] TRUE"
      ]
     },
     "metadata": {},
     "output_type": "display_data"
    },
    {
     "data": {
      "text/html": [
       "TRUE"
      ],
      "text/latex": [
       "TRUE"
      ],
      "text/markdown": [
       "TRUE"
      ],
      "text/plain": [
       "[1] TRUE"
      ]
     },
     "metadata": {},
     "output_type": "display_data"
    },
    {
     "name": "stderr",
     "output_type": "stream",
     "text": [
      "NOTE: linkedTxome with source='Ensembl', ensembldb will be used to parse GTF.\n",
      "this may produce errors if the GTF is not from Ensembl, or has been modified.\n",
      "set useHub=FALSE in tximeta to avoid download of reference txome from AnnotationHub.\n",
      "alternatively use a different string for source argument\n",
      "\n",
      "writing linkedTxome to /fs/cbcb-lab/rob/students/noor/Uncertainity/ChimpData/refseq_ind/sal_ind/.json\n",
      "\n",
      "linkedTxome is same as already in bfc\n",
      "\n",
      "importing quantifications\n",
      "\n",
      "reading in files with read_tsv\n",
      "\n",
      "1 \n",
      "2 \n",
      "3 \n",
      "4 \n",
      "5 \n",
      "6 \n",
      "7 \n",
      "8 \n",
      "9 \n",
      "10 \n",
      "\n",
      "\n",
      "found matching linked transcriptome:\n",
      "[ Ensembl - Pan Troglodytes - release 104 ]\n",
      "\n",
      "loading existing EnsDb created: 2023-05-07 17:27:02\n",
      "\n",
      "loading existing transcript ranges created: 2023-12-24 19:02:11\n",
      "\n",
      "reading tree\n",
      "\n",
      "importing quantifications\n",
      "\n",
      "reading in files with read_tsv\n",
      "\n",
      "1 \n",
      "2 \n",
      "3 \n",
      "4 \n",
      "5 \n",
      "6 \n",
      "7 \n",
      "8 \n",
      "9 \n",
      "10 \n",
      "\n",
      "\n",
      "found matching linked transcriptome:\n",
      "[ Ensembl - Pan Troglodytes - release 104 ]\n",
      "\n",
      "loading existing EnsDb created: 2023-05-07 17:27:02\n",
      "\n",
      "loading existing transcript ranges created: 2023-12-24 19:02:11\n",
      "\n",
      "Missing txps 4752\n",
      "\n",
      "Aggregation Started\n",
      "\n",
      "Aggregation Ended\n",
      "\n"
     ]
    }
   ],
   "source": [
    "metaData <- read.delim(\"/fs/cbcb-lab/rob/students/noor/Uncertainity/ChimpData/SYNAPSE_METADATA_MANIFEST.tsv\")\n",
    "quantDir <- \"/fs/cbcb-lab/rob/students/noor/Uncertainity/ChimpData/sal_out/mode_gcbias=True/posttype=gibbs_npost=100_tf=100\"\n",
    "tissuesOfInt <- c(\"cerebellum\", \"medial dorsal nucleus of thalamus\")\n",
    "saveDir <- \"../environment/chimpBrain\"\n",
    "metaData <- metaData %>% \n",
    "    filter(tissue %in% tissuesOfInt)\n",
    "dim(metaData)[1] == 10\n",
    "samples <- sapply(strsplit(metaData[[\"path\"]],\"/\", fixed = T), function(x) \n",
    "        sapply(strsplit(x[[length(x)]], \".\", fixed = T), function(x) x[1]))\n",
    "files <- file.path(quantDir, samples, \"quant.sf\")\n",
    "all(file.exists(files))\n",
    "colData <- data.frame(files = files, names = samples, tissue = as.factor(metaData[[\"tissue\"]]))\n",
    "clustFile <- \"/fs/cbcb-lab/rob/students/noor/Uncertainity/ChimpData/term_out/mode_gcbias=True/posttype=gibbs_npost=100_tf=100//nothr0//cluster_nwk.txt\"\n",
    "               \n",
    "#### Add gene annotation, since that could not be found by tximeta\n",
    "indDir <- \"/fs/cbcb-lab/rob/students/noor/Uncertainity/ChimpData/refseq_ind/sal_ind/\"\n",
    "fastaPath <- c(\"/fs/cbcb-lab/rob/students/noor/Uncertainity/ChimpData/refseq_ind/Pan_troglodytes.Pan_tro_3.0.cdna.all.fa.gz\",\n",
    "           \"/fs/cbcb-lab/rob/students/noor/Uncertainity/ChimpData/refseq_ind/Pan_troglodytes.Pan_tro_3.0.ncrna.fa.gz\")\n",
    "gtfPath <- \"/fs/cbcb-lab/rob/students/noor/Uncertainity/ChimpData/refseq_ind/Pan_troglodytes.Pan_tro_3.0.104.gtf.gz\"\n",
    "tximeta::makeLinkedTxome(indexDir=indDir, source=\"ensembl\", organism=\"Pan Troglodytes\",\n",
    "                release=\"104\", genome=\"panTro3\", fasta=fastaPath, gtf=gtfPath, write=T)\n",
    "seChimp <- tximeta::tximeta(colData)\n",
    "               \n",
    "tseChimp <- beaveR::buildTSE(treeTermFile = clustFile, coldata = colData)\n",
    "               \n",
    "tree <- rowTree(tseChimp)\n",
    "l <- length(tree$tip)\n",
    "               \n",
    "tseChimp <- fishpond::computeInfRV(tseChimp)"
   ]
  },
  {
   "cell_type": "markdown",
   "id": "f226d7f0",
   "metadata": {},
   "source": [
    "#### PCA on normalized counts\n",
    "We see batch effects"
   ]
  },
  {
   "cell_type": "code",
   "execution_count": 15,
   "id": "55982e48",
   "metadata": {},
   "outputs": [
    {
     "name": "stderr",
     "output_type": "stream",
     "text": [
      "using counts and average transcript lengths from tximeta\n",
      "\n",
      "  Note: levels of factors in the design contain characters other than\n",
      "  letters, numbers, '_' and '.'. It is recommended (but not required) to use\n",
      "  only letters, numbers, and delimiters '_' or '.', as these are safe characters\n",
      "  for column names in R. [This is a message, not a warning or an error]\n",
      "\n",
      "  Note: levels of factors in the design contain characters other than\n",
      "  letters, numbers, '_' and '.'. It is recommended (but not required) to use\n",
      "  only letters, numbers, and delimiters '_' or '.', as these are safe characters\n",
      "  for column names in R. [This is a message, not a warning or an error]\n",
      "\n",
      "using 'avgTxLength' from assays(dds), correcting for library size\n",
      "\n"
     ]
    },
    {
     "data": {
      "image/png": "[encoded data removed]",
      "text/plain": [
       "plot without title"
      ]
     },
     "metadata": {
      "image/png": {
       "height": 600,
       "width": 600
      }
     },
     "output_type": "display_data"
    }
   ],
   "source": [
    "dds <- DESeq2::DESeqDataSet(tseChimp[1:l,], design=~tissue)\n",
    "dds <- DESeq2::estimateSizeFactors(dds)\n",
    "dds <- dds[rowSums(assays(dds)[[\"counts\"]]) > 10,]\n",
    "vsd <- DESeq2::vst(dds)\n",
    "DESeq2::plotPCA(vsd, intgroup=c(\"tissue\"), ntop=1000)"
   ]
  },
  {
   "cell_type": "markdown",
   "id": "1c8b6ffe",
   "metadata": {},
   "source": [
    "#### Correcting batch effects n=2"
   ]
  },
  {
   "cell_type": "code",
   "execution_count": 9,
   "id": "119ace1c",
   "metadata": {},
   "outputs": [],
   "source": [
    "y <- fishpond::scaleInfReps(tseChimp[1:l,])\n",
    "infRepIdx <- grep(\"infRep\",assayNames(y),value=TRUE)\n",
    "nreps <- length(infRepIdx)\n",
    "\n",
    "mm <- model.matrix(~tissue, colData(dds))\n",
    "mm0 <- model.matrix(~ 1, colData(dds))\n",
    "norm.cts <- counts(dds, normalized=TRUE)\n",
    "norm.cts <- norm.cts[rowSums(norm.cts) > 0,]"
   ]
  },
  {
   "cell_type": "code",
   "execution_count": null,
   "id": "40a8e4aa",
   "metadata": {},
   "outputs": [],
   "source": [
    "fit <- svaseq(norm.cts, mod=mm, mod0=mm0, n.sv=4)\n",
    "for (k in seq_len(nreps)) {\n",
    "    logInfRep <- log(assay(y, infRepIdx[k]) + 0.1)\n",
    "    logInfRep <- limma::removeBatchEffect(\n",
    "      logInfRep,\n",
    "      covariates=fit[[\"sv\"]],\n",
    "      design=mm)\n",
    "    assay(y, infRepIdx[k]) <- exp(logInfRep)\n",
    "}"
   ]
  },
  {
   "cell_type": "code",
   "execution_count": null,
   "id": "fb94aacc",
   "metadata": {},
   "outputs": [],
   "source": [
    "top <- order(matrixStats::rowVars(assays(y)[[\"infRep1\"]]), decreasing = T)[1:1000]\n",
    "pca <- prcomp(t(assays(y)[[\"infRep1\"]][top,]), scale = T)\n",
    "        \n",
    "scores <- data.frame(pca$x[,1:2], group = factor(rep(c(\"cerebellum\", \"medial dorsal\"), each = 5)),\n",
    "            var = pca$sdev^2/sum(pca$sdev^2))\n",
    "\n",
    "print(scores[[\"var\"]])\n",
    "print(ggplot(scores, aes(x = PC1, y = PC2, color = group)) +\n",
    "  geom_point() +\n",
    "  xlab(\"PC1\") +\n",
    "  ylab(\"PC2\") +\n",
    "  ggtitle(\"PCA Plot with Grouping\"))"
   ]
  },
  {
   "cell_type": "code",
   "execution_count": 5,
   "id": "4b727587",
   "metadata": {},
   "outputs": [],
   "source": [
    "y <- fishpond::labelKeep(y)\n",
    "set.seed(10)\n",
    "y <- fishpond::swish(y, x=\"tissue\")\n",
    "save(y, file=file.path(saveDir, \"y.RData\"))"
   ]
  },
  {
   "cell_type": "markdown",
   "id": "86221544",
   "metadata": {},
   "source": [
    "### Batch effects on the tree nodes"
   ]
  },
  {
   "cell_type": "code",
   "execution_count": 106,
   "id": "1fdaff47",
   "metadata": {},
   "outputs": [],
   "source": [
    "yAll <- beaveR::computeSizeFactors(tseChimp)\n",
    "yAll <- beaveR::scInfReps(yAll)\n",
    "mm <- model.matrix(~tissue, colData(dds))\n",
    "mm0 <- model.matrix(~ 1, colData(dds))\n",
    "norm.cts <- counts(dds, normalized=TRUE)\n",
    "norm.cts <- norm.cts[rowSums(norm.cts) > 0,]\n",
    "\n",
    "fit <- svaseq(norm.cts, mod=mm, mod0=mm0, n.sv=2)\n",
    "pc <- .1\n",
    "\n",
    "for (k in seq_len(nreps)) {\n",
    "    logInfRep <- log(assay(yAll, infRepIdx[k]) + pc)\n",
    "    logInfRep <- limma::removeBatchEffect(\n",
    "      logInfRep,\n",
    "      covariates=fit[[\"sv\"]],\n",
    "      design=mm)\n",
    "    assay(yAll, infRepIdx[k]) <- exp(logInfRep)\n",
    "}"
   ]
  },
  {
   "cell_type": "markdown",
   "id": "c8545d21",
   "metadata": {},
   "source": [
    "#### Run Swish"
   ]
  },
  {
   "cell_type": "code",
   "execution_count": 105,
   "id": "83c979c1",
   "metadata": {},
   "outputs": [],
   "source": [
    "yAll <- fishpond::labelKeep(yAll)\n",
    "set.seed(10)\n",
    "yLeaves <- fishpond::swish(yAll[1:nleaves,], x=\"tissue\")\n",
    "set.seed(10)\n",
    "yInn <- fishpond::swish(yAll[(l+1):nrow(yAll),], x = \"tissue\")\n",
    "mcols(yAll)[[\"pvalues\"]] <- c(mcols(yLeaves)[[\"pvalues\"]], mcols(yInn)[[\"pvalues\"]])\n",
    "save(yAll, file=file.path(saveDir, \"yAll.RData\"))"
   ]
  },
  {
   "cell_type": "markdown",
   "id": "d8e825fc",
   "metadata": {},
   "source": [
    "### Gene Level"
   ]
  },
  {
   "cell_type": "code",
   "execution_count": 13,
   "id": "968dbdf6",
   "metadata": {},
   "outputs": [
    {
     "name": "stderr",
     "output_type": "stream",
     "text": [
      "loading existing EnsDb created: 2023-05-07 17:27:02\n",
      "\n",
      "obtaining transcript-to-gene mapping from database\n",
      "\n",
      "loading existing gene ranges created: 2023-05-07 17:27:18\n",
      "\n",
      "summarizing abundance\n",
      "\n",
      "summarizing counts\n",
      "\n",
      "summarizing length\n",
      "\n",
      "summarizing inferential replicates\n",
      "\n",
      "using counts and average transcript lengths from tximeta\n",
      "\n",
      "  Note: levels of factors in the design contain characters other than\n",
      "  letters, numbers, '_' and '.'. It is recommended (but not required) to use\n",
      "  only letters, numbers, and delimiters '_' or '.', as these are safe characters\n",
      "  for column names in R. [This is a message, not a warning or an error]\n",
      "\n",
      "  Note: levels of factors in the design contain characters other than\n",
      "  letters, numbers, '_' and '.'. It is recommended (but not required) to use\n",
      "  only letters, numbers, and delimiters '_' or '.', as these are safe characters\n",
      "  for column names in R. [This is a message, not a warning or an error]\n",
      "\n",
      "using 'avgTxLength' from assays(dds), correcting for library size\n",
      "\n"
     ]
    }
   ],
   "source": [
    "gy <- tximeta::summarizeToGene(seChimp)\n",
    "options(repr.plot.width=10, repr.plot.height=10)\n",
    "dds <- DESeq2::DESeqDataSet(gy, design=~tissue)\n",
    "dds <- DESeq2::estimateSizeFactors(dds)\n",
    "dds <- dds[rowSums(assays(dds)[[\"counts\"]]) > 10,]"
   ]
  },
  {
   "cell_type": "code",
   "execution_count": 55,
   "id": "a9b09cbd",
   "metadata": {},
   "outputs": [
    {
     "name": "stderr",
     "output_type": "stream",
     "text": [
      "using counts and average transcript lengths from tximeta\n",
      "\n",
      "  Note: levels of factors in the design contain characters other than\n",
      "  letters, numbers, '_' and '.'. It is recommended (but not required) to use\n",
      "  only letters, numbers, and delimiters '_' or '.', as these are safe characters\n",
      "  for column names in R. [This is a message, not a warning or an error]\n",
      "\n",
      "  Note: levels of factors in the design contain characters other than\n",
      "  letters, numbers, '_' and '.'. It is recommended (but not required) to use\n",
      "  only letters, numbers, and delimiters '_' or '.', as these are safe characters\n",
      "  for column names in R. [This is a message, not a warning or an error]\n",
      "\n",
      "using 'avgTxLength' from assays(dds), correcting for library size\n",
      "\n"
     ]
    },
    {
     "name": "stdout",
     "output_type": "stream",
     "text": [
      "Number of significant surrogate variables is:  2 \n",
      "Iteration (out of 5 ):1  2  3  4  5  "
     ]
    }
   ],
   "source": [
    "yg <- gy\n",
    "yg <- fishpond::scaleInfReps(yg)\n",
    "\n",
    "infRepIdx <- grep(\"infRep\",assayNames(gy),value=TRUE)\n",
    "nreps <- length(infRepIdx)\n",
    "\n",
    "mm <- model.matrix(~tissue, colData(dds))\n",
    "mm0 <- model.matrix(~ 1, colData(dds))\n",
    "norm.cts <- counts(dds, normalized=TRUE)\n",
    "norm.cts <- norm.cts[rowSums(norm.cts) > 0,]\n",
    "     \n",
    "fit <- svaseq(norm.cts, mod=mm, mod0=mm0, n.sv=2)\n",
    "pc <- .1\n",
    "for (k in seq_len(nreps)) {\n",
    "    logInfRep <- log(assay(yg, infRepIdx[k]) + pc)\n",
    "    logInfRep <- limma::removeBatchEffect(\n",
    "      logInfRep,\n",
    "      covariates=fit[[\"sv\"]],\n",
    "      design=mm)\n",
    "      assay(yg, infRepIdx[k]) <- exp(logInfRep)\n",
    "}"
   ]
  },
  {
   "cell_type": "code",
   "execution_count": 3,
   "id": "822ffe26",
   "metadata": {},
   "outputs": [],
   "source": [
    "yg <- fishpond::labelKeep(yg)\n",
    "set.seed(10)\n",
    "yg <- fishpond::swish(yg, x=\"tissue\")\n",
    "save(yg, file=file.path(saveDir, \"yg.RData\"))"
   ]
  },
  {
   "cell_type": "markdown",
   "id": "4831dd4f",
   "metadata": {},
   "source": [
    "### Terminus"
   ]
  },
  {
   "cell_type": "code",
   "execution_count": 7,
   "id": "77b2f8a1",
   "metadata": {},
   "outputs": [],
   "source": [
    "termFile <- \"/fs/cbcb-lab/rob/students/noor/Uncertainity/ChimpData/term_out/mode_gcbias=True/posttype=gibbs_npost=100_tf=100/old/PTB162LCBC/clusters.txt\"\n",
    "suppressPackageStartupMessages(source(\"../terminus_helper.R\"))\n",
    "yTermThrNS <- tseChimp[1:l,]\n",
    "groupsClust <- parseClustFile(termFile, yTermThrNS, gsub = TRUE)\n",
    "mInds <- seq(nrow(yTermThrNS) + length(groupsClust))\n",
    "yAggTermThrNS <- prepTerm(yTermThrNS, mInds, groupsClust)\n",
    "yTerm <- yAggTermThrNS[-unlist(groupsClust),]\n",
    "yTerm <- fishpond::scaleInfReps(yTerm)"
   ]
  },
  {
   "cell_type": "code",
   "execution_count": 8,
   "id": "7a977c08",
   "metadata": {},
   "outputs": [
    {
     "name": "stderr",
     "output_type": "stream",
     "text": [
      "using counts and average transcript lengths from tximeta\n",
      "\n",
      "  Note: levels of factors in the design contain characters other than\n",
      "  letters, numbers, '_' and '.'. It is recommended (but not required) to use\n",
      "  only letters, numbers, and delimiters '_' or '.', as these are safe characters\n",
      "  for column names in R. [This is a message, not a warning or an error]\n",
      "\n",
      "  Note: levels of factors in the design contain characters other than\n",
      "  letters, numbers, '_' and '.'. It is recommended (but not required) to use\n",
      "  only letters, numbers, and delimiters '_' or '.', as these are safe characters\n",
      "  for column names in R. [This is a message, not a warning or an error]\n",
      "\n",
      "using 'avgTxLength' from assays(dds), correcting for library size\n",
      "\n"
     ]
    },
    {
     "data": {
      "image/png": "[encoded data removed]",
      "text/plain": [
       "plot without title"
      ]
     },
     "metadata": {
      "image/png": {
       "height": 420,
       "width": 420
      }
     },
     "output_type": "display_data"
    }
   ],
   "source": [
    "dds <- DESeq2::DESeqDataSet(yAggTermThrNS[-unlist(groupsClust),], design=~tissue)\n",
    "dds <- DESeq2::estimateSizeFactors(dds)\n",
    "dds <- dds[rowSums(assays(dds)[[\"counts\"]]) > 10,]\n",
    "vsd <- DESeq2::vst(dds)\n",
    "DESeq2::plotPCA(vsd, intgroup=c(\"tissue\"), ntop=1000)"
   ]
  },
  {
   "cell_type": "code",
   "execution_count": 10,
   "id": "8de73914",
   "metadata": {},
   "outputs": [
    {
     "name": "stdout",
     "output_type": "stream",
     "text": [
      "Number of significant surrogate variables is:  2 \n",
      "Iteration (out of 5 ):1  2  3  4  5  "
     ]
    }
   ],
   "source": [
    "infRepIdx <- grep(\"infRep\",assayNames(yTerm),value=TRUE)\n",
    "nreps <- length(infRepIdx)\n",
    "\n",
    "mm <- model.matrix(~tissue, colData(dds))\n",
    "mm0 <- model.matrix(~ 1, colData(dds))\n",
    "norm.cts <- counts(dds, normalized=TRUE)\n",
    "norm.cts <- norm.cts[rowSums(norm.cts) > 0,]\n",
    "     \n",
    "fit <- svaseq(norm.cts, mod=mm, mod0=mm0, n.sv=2)\n",
    "pc <- .1\n",
    "for (k in seq_len(nreps)) {\n",
    "    logInfRep <- log(assay(yTerm, infRepIdx[k]) + pc)\n",
    "    logInfRep <- limma::removeBatchEffect(\n",
    "      logInfRep,\n",
    "      covariates=fit[[\"sv\"]],\n",
    "      design=mm)\n",
    "      assay(yTerm, infRepIdx[k]) <- exp(logInfRep)\n",
    "}"
   ]
  },
  {
   "cell_type": "code",
   "execution_count": 12,
   "id": "2d9e875b",
   "metadata": {},
   "outputs": [],
   "source": [
    "yTerm <- fishpond::labelKeep(yTerm)\n",
    "set.seed(10)\n",
    "yTerm <- fishpond::swish(yTerm, x=\"tissue\")"
   ]
  },
  {
   "cell_type": "markdown",
   "id": "4cf78f81",
   "metadata": {},
   "source": [
    "### Feature extraction"
   ]
  },
  {
   "cell_type": "code",
   "execution_count": 18,
   "id": "51886c76",
   "metadata": {},
   "outputs": [],
   "source": [
    "detNodes <- list()\n",
    "negNodes <- list()"
   ]
  },
  {
   "cell_type": "code",
   "execution_count": 20,
   "id": "dfb27a9b",
   "metadata": {},
   "outputs": [],
   "source": [
    "detNodes[[\"Txps\"]] <- lapply(c(0.01, 0.05, 0.1), function(x) which(mcols(y)[,\"qvalue\"] <= x ))\n",
    "detNodes[[\"Genes\"]] <- lapply(c(0.01, 0.05, 0.1), function(x) which(mcols(yg)[,\"qvalue\"] <= x ))\n",
    "detNodes[[\"Terminus\"]] <- lapply(c(0.01, 0.05, 0.1), function(x) {\n",
    "        nodes <- rownames(yTerm)[which(mcols(yTerm)[,\"qvalue\"] <= x)]\n",
    "        match(nodes, names(yAggTermThrNS))\n",
    "})\n",
    "negNodes[[\"Txps\"]] <- lapply(detNodes[[\"Txps\"]], function(nodes) setdiff(seq(l), nodes))\n",
    "negNodes[[\"Genes\"]] <- lapply(detNodes[[\"Genes\"]], function(nodes) setdiff(seq(nrow(gy)), nodes))\n",
    "negNodes[[\"Terminus\"]] <- lapply(c(0.01, 0.05, 0.1), function(x) {\n",
    "        nodes <- rownames(yTerm)[setdiff(seq(nrow(yTerm)),\n",
    "                                                 which(mcols(yTerm)[,\"qvalue\"] <= x))]\n",
    "        match(nodes, rownames(yAggTermThrNS))\n",
    "    })                            "
   ]
  },
  {
   "cell_type": "code",
   "execution_count": 36,
   "id": "a755eb89",
   "metadata": {},
   "outputs": [],
   "source": [
    "save(detNodes, file=file.path(saveDir, \"detNodes.RData\"))\n",
    "save(negNodes, file=file.path(saveDir, \"negNodes.RData\"))"
   ]
  }
 ],
 "metadata": {
  "kernelspec": {
   "display_name": "R",
   "language": "R",
   "name": "ir"
  },
  "language_info": {
   "codemirror_mode": "r",
   "file_extension": ".r",
   "mimetype": "text/x-r-source",
   "name": "R",
   "pygments_lexer": "r",
   "version": "4.1.1"
  }
 },
 "nbformat": 4,
 "nbformat_minor": 5
}
