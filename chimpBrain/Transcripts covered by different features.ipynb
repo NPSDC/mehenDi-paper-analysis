{
 "cells": [
  {
   "cell_type": "markdown",
   "id": "cb11924b",
   "metadata": {},
   "source": [
    "#### Loading data"
   ]
  },
  {
   "cell_type": "code",
   "execution_count": 1,
   "id": "33a6dcab",
   "metadata": {},
   "outputs": [],
   "source": [
    "suppressPackageStartupMessages(library(TreeSummarizedExperiment))\n",
    "suppressPackageStartupMessages(library(ape))\n",
    "suppressPackageStartupMessages(library(phangorn))\n",
    "\n",
    "saveDir <- \"../environment/chimpBrain\"\n",
    "clustFile <- \"/fs/cbcb-lab/rob/students/noor/Uncertainity/real_datasets/GSE100505_EDL_MAST/term_out/mode_gcbias=True/posttype=gibbs_npost=100_tf=100/no_threshold0/cluster_nwk.txt\"\n",
    "\n",
    "load(file.path(saveDir, 'yAll.RData'))\n",
    "treeCons <- rowTree(yAll)\n",
    "l <- length(treeCons$tip)\n",
    "\n",
    "load(file.path(saveDir, \"detNodes.RData\"))"
   ]
  },
  {
   "cell_type": "code",
   "execution_count": 15,
   "id": "588da4e3",
   "metadata": {},
   "outputs": [],
   "source": [
    "termFile <- \"/fs/cbcb-lab/rob/students/noor/Uncertainity/ChimpData/term_out/mode_gcbias=True/posttype=gibbs_npost=100_tf=100/old/PTB162LCBC/clusters.txt\"\n",
    "suppressPackageStartupMessages(source(\"../terminus_helper.R\"))\n",
    "yTermThrNS <- yAll[1:l,]\n",
    "groupsClust <- parseClustFile(termFile, yTermThrNS)\n",
    "mInds <- seq(nrow(yTermThrNS) + length(groupsClust))\n",
    "yAggTermThrNS <- prepTerm(yTermThrNS, mInds, groupsClust)"
   ]
  },
  {
   "cell_type": "markdown",
   "id": "dd141a92",
   "metadata": {},
   "source": [
    "#### Differentially expressed transcripts"
   ]
  },
  {
   "cell_type": "code",
   "execution_count": 3,
   "id": "b02b10b8",
   "metadata": {},
   "outputs": [
    {
     "data": {
      "text/html": [
       "<style>\n",
       ".list-inline {list-style: none; margin:0; padding: 0}\n",
       ".list-inline>li {display: inline-block}\n",
       ".list-inline>li:not(:last-child)::after {content: \"\\00b7\"; padding: 0 .5ex}\n",
       "</style>\n",
       "<ol class=list-inline><li>3539</li><li>10133</li><li>11886</li></ol>\n"
      ],
      "text/latex": [
       "\\begin{enumerate*}\n",
       "\\item 3539\n",
       "\\item 10133\n",
       "\\item 11886\n",
       "\\end{enumerate*}\n"
      ],
      "text/markdown": [
       "1. 3539\n",
       "2. 10133\n",
       "3. 11886\n",
       "\n",
       "\n"
      ],
      "text/plain": [
       "[1]  3539 10133 11886"
      ]
     },
     "metadata": {},
     "output_type": "display_data"
    }
   ],
   "source": [
    "dTxps <- lapply(detNodes[[\"Txps\"]], function(txps) rownames(yAll)[txps])\n",
    "sapply(dTxps, length)"
   ]
  },
  {
   "cell_type": "markdown",
   "id": "79f32c64",
   "metadata": {},
   "source": [
    "#### Genes Mapping to those transcripts"
   ]
  },
  {
   "cell_type": "code",
   "execution_count": 5,
   "id": "96c0a23d",
   "metadata": {},
   "outputs": [
    {
     "data": {
      "text/html": [
       "<style>\n",
       ".list-inline {list-style: none; margin:0; padding: 0}\n",
       ".list-inline>li {display: inline-block}\n",
       ".list-inline>li:not(:last-child)::after {content: \"\\00b7\"; padding: 0 .5ex}\n",
       "</style>\n",
       "<ol class=list-inline><li>3236</li><li>8304</li><li>9492</li></ol>\n"
      ],
      "text/latex": [
       "\\begin{enumerate*}\n",
       "\\item 3236\n",
       "\\item 8304\n",
       "\\item 9492\n",
       "\\end{enumerate*}\n"
      ],
      "text/markdown": [
       "1. 3236\n",
       "2. 8304\n",
       "3. 9492\n",
       "\n",
       "\n"
      ],
      "text/plain": [
       "[1] 3236 8304 9492"
      ]
     },
     "metadata": {},
     "output_type": "display_data"
    }
   ],
   "source": [
    "mapDf <- rowData(yAll)\n",
    "txpGenes <- lapply(dTxps, function(txps) unique(unlist(mapDf[txps, \"GENEID\"])))##Genes that map to transcripts\n",
    "sapply(txpGenes, length)"
   ]
  },
  {
   "cell_type": "markdown",
   "id": "f00d71bc",
   "metadata": {},
   "source": [
    "#### Differentially expressed genes"
   ]
  },
  {
   "cell_type": "code",
   "execution_count": 9,
   "id": "4eea2b67",
   "metadata": {},
   "outputs": [
    {
     "data": {
      "text/html": [
       "<style>\n",
       ".list-inline {list-style: none; margin:0; padding: 0}\n",
       ".list-inline>li {display: inline-block}\n",
       ".list-inline>li:not(:last-child)::after {content: \"\\00b7\"; padding: 0 .5ex}\n",
       "</style>\n",
       "<ol class=list-inline><li>6090</li><li>8256</li><li>9354</li></ol>\n"
      ],
      "text/latex": [
       "\\begin{enumerate*}\n",
       "\\item 6090\n",
       "\\item 8256\n",
       "\\item 9354\n",
       "\\end{enumerate*}\n"
      ],
      "text/markdown": [
       "1. 6090\n",
       "2. 8256\n",
       "3. 9354\n",
       "\n",
       "\n"
      ],
      "text/plain": [
       "[1] 6090 8256 9354"
      ]
     },
     "metadata": {},
     "output_type": "display_data"
    }
   ],
   "source": [
    "load(file.path(saveDir, \"yg.RData\"))\n",
    "dges <- lapply(detNodes[[\"Genes\"]], function(genes) rownames(yg)[genes])\n",
    "sapply(dges,length)"
   ]
  },
  {
   "cell_type": "markdown",
   "id": "9dbe25a5",
   "metadata": {},
   "source": [
    "#### Genes that are considered differentially expressed in genes but dont contain a single differentially expressed transcript"
   ]
  },
  {
   "cell_type": "code",
   "execution_count": 10,
   "id": "e38694f0",
   "metadata": {},
   "outputs": [
    {
     "data": {
      "text/html": [
       "<style>\n",
       ".list-inline {list-style: none; margin:0; padding: 0}\n",
       ".list-inline>li {display: inline-block}\n",
       ".list-inline>li:not(:last-child)::after {content: \"\\00b7\"; padding: 0 .5ex}\n",
       "</style>\n",
       "<ol class=list-inline><li>2984</li><li>787</li><li>716</li></ol>\n"
      ],
      "text/latex": [
       "\\begin{enumerate*}\n",
       "\\item 2984\n",
       "\\item 787\n",
       "\\item 716\n",
       "\\end{enumerate*}\n"
      ],
      "text/markdown": [
       "1. 2984\n",
       "2. 787\n",
       "3. 716\n",
       "\n",
       "\n"
      ],
      "text/plain": [
       "[1] 2984  787  716"
      ]
     },
     "metadata": {},
     "output_type": "display_data"
    },
    {
     "data": {
      "text/html": [
       "<style>\n",
       ".list-inline {list-style: none; margin:0; padding: 0}\n",
       ".list-inline>li {display: inline-block}\n",
       ".list-inline>li:not(:last-child)::after {content: \"\\00b7\"; padding: 0 .5ex}\n",
       "</style>\n",
       "<ol class=list-inline><li>130</li><li>835</li><li>854</li></ol>\n"
      ],
      "text/latex": [
       "\\begin{enumerate*}\n",
       "\\item 130\n",
       "\\item 835\n",
       "\\item 854\n",
       "\\end{enumerate*}\n"
      ],
      "text/markdown": [
       "1. 130\n",
       "2. 835\n",
       "3. 854\n",
       "\n",
       "\n"
      ],
      "text/plain": [
       "[1] 130 835 854"
      ]
     },
     "metadata": {},
     "output_type": "display_data"
    }
   ],
   "source": [
    "diffGenes <- lapply(seq_along(dges), function(i) setdiff(dges[[i]], txpGenes[[i]])) ## Txps that are missing in differential transcripts mapping to genes\n",
    "sapply(diffGenes, length)\n",
    "diffGenes2 <- lapply(seq_along(dges), function(i) setdiff(txpGenes[[i]], dges[[i]])) ## Txps that are missing in differential transcripts mapping to genes                    \n",
    "sapply(diffGenes2, length)\n",
    "# sum(mcols(y)[unlist(mcols(yg)[diffGenes[[2]],\"tx_ids\"]), \"qvalue\"] < 0.05, na.rm=T)==0 ## None of the diffGenes should contain a differential transcript"
   ]
  },
  {
   "cell_type": "markdown",
   "id": "d51580b4",
   "metadata": {},
   "source": [
    "#### Height of the nodes in treeclimbR and trenDi"
   ]
  },
  {
   "cell_type": "code",
   "execution_count": 11,
   "id": "a60b570c",
   "metadata": {},
   "outputs": [
    {
     "data": {
      "text/plain": [
       "[[1]]\n",
       "\n",
       "   1    2    3    4    5    6    7    8    9 \n",
       "2698  511  177   73   29   11    5    4    1 \n",
       "\n",
       "[[2]]\n",
       "\n",
       "   1    2    3    4    5    6    7    8    9   10 \n",
       "7415  786  285  120   46   19    9    4    1    2 \n",
       "\n",
       "[[3]]\n",
       "\n",
       "   1    2    3    4    5    6    7    8    9   10   11 \n",
       "8105 1197  460  191   76   30   15    9    4    3    1 \n"
      ]
     },
     "metadata": {},
     "output_type": "display_data"
    },
    {
     "data": {
      "text/plain": [
       "[[1]]\n",
       "\n",
       "   1    2    3    4    5    6    7    8    9   10 \n",
       "2721  705  342  126   70   18   10    5    3    1 \n",
       "\n",
       "[[2]]\n",
       "\n",
       "   1    2    3    4    5    6    7    8    9 \n",
       "7979 1387  554  196   73   33   15    6    4 \n",
       "\n",
       "[[3]]\n",
       "\n",
       "   1    2    3    4    5    6    7    8    9 \n",
       "9272 1731  643  229   78   36   18    6    4 \n"
      ]
     },
     "metadata": {},
     "output_type": "display_data"
    }
   ],
   "source": [
    "lapply(detNodes$`treeClimbR(N)`, function(nodes) table(node.depth(treeCons,2)[nodes]))\n",
    "lapply(detNodes$trenDi, function(nodes) table(node.depth(treeCons,2)[nodes]))"
   ]
  },
  {
   "cell_type": "markdown",
   "id": "2daaebad",
   "metadata": {},
   "source": [
    "#### Transcripts mapping to the features"
   ]
  },
  {
   "cell_type": "code",
   "execution_count": 16,
   "id": "92fb7750",
   "metadata": {},
   "outputs": [],
   "source": [
    "j <- 1\n",
    "treeDETxps <- rownames(yAll)[unlist(Descendants(treeCons, detNodes[[\"trenDi\"]][[j]]))]\n",
    "treeClimbTxps <- rownames(yAll)[detNodes[[\"treeClimbR(L)\"]][[j]]]\n",
    "\n",
    "dN <- detNodes[[\"Terminus\"]][[j]]\n",
    "\n",
    "termTxps <- c(rownames(yTermThrNS)[dN][startsWith(rownames(yAggTermThrNS)[dN], \"ENS\")],\n",
    "  rownames(yAggTermThrNS)[as.numeric(unlist(groupsClust[rownames(yAggTermThrNS)[dN][!startsWith(rownames(yAggTermThrNS)[dN], \"ENS\")]]))])"
   ]
  },
  {
   "cell_type": "code",
   "execution_count": 18,
   "id": "5e16a751",
   "metadata": {},
   "outputs": [
    {
     "data": {
      "image/png": "[encoded data removed]",
      "text/plain": [
       "plot without title"
      ]
     },
     "metadata": {
      "image/png": {
       "height": 600,
       "width": 1980
      }
     },
     "output_type": "display_data"
    }
   ],
   "source": [
    "options(repr.plot.width=33, repr.plot.height=10)\n",
    "suppressPackageStartupMessages(library(UpSetR))\n",
    "txpMethods = list(Txps = rownames(yAll)[detNodes[[\"Txps\"]][[j]]], \n",
    "                 trenDi = treeDETxps, \n",
    "                 treeclimbR = treeClimbTxps, \n",
    "                 Terminus = termTxps\n",
    "                 )\n",
    "upsetData <- fromList(txpMethods)\n",
    "size <- 3\n",
    "upset(upsetData, order.by = \"freq\",\n",
    "     main.bar.color = \"#377eb8\", \n",
    "     matrix.color = \"#e41a1c\",\n",
    "     sets.bar.color = c(\"#ff7f00\"),\n",
    "     sets.x.label = \"Transcripts covered by the different methods\",\n",
    "     shade.alpha = 0.7, \n",
    "     text.scale = c(size, size, size, size, size, size)\n",
    ")"
   ]
  },
  {
   "cell_type": "code",
   "execution_count": 19,
   "id": "09f89fc8",
   "metadata": {},
   "outputs": [
    {
     "data": {
      "text/html": [
       "<style>\n",
       ".list-inline {list-style: none; margin:0; padding: 0}\n",
       ".list-inline>li {display: inline-block}\n",
       ".list-inline>li:not(:last-child)::after {content: \"\\00b7\"; padding: 0 .5ex}\n",
       "</style>\n",
       "<ol class=list-inline><li>3509</li><li>8687</li><li>10091</li></ol>\n"
      ],
      "text/latex": [
       "\\begin{enumerate*}\n",
       "\\item 3509\n",
       "\\item 8687\n",
       "\\item 10091\n",
       "\\end{enumerate*}\n"
      ],
      "text/markdown": [
       "1. 3509\n",
       "2. 8687\n",
       "3. 10091\n",
       "\n",
       "\n"
      ],
      "text/plain": [
       "[1]  3509  8687 10091"
      ]
     },
     "metadata": {},
     "output_type": "display_data"
    },
    {
     "data": {
      "text/html": [
       "<style>\n",
       ".list-inline {list-style: none; margin:0; padding: 0}\n",
       ".list-inline>li {display: inline-block}\n",
       ".list-inline>li:not(:last-child)::after {content: \"\\00b7\"; padding: 0 .5ex}\n",
       "</style>\n",
       "<ol class=list-inline><li>4001</li><li>10247</li><li>12017</li></ol>\n"
      ],
      "text/latex": [
       "\\begin{enumerate*}\n",
       "\\item 4001\n",
       "\\item 10247\n",
       "\\item 12017\n",
       "\\end{enumerate*}\n"
      ],
      "text/markdown": [
       "1. 4001\n",
       "2. 10247\n",
       "3. 12017\n",
       "\n",
       "\n"
      ],
      "text/plain": [
       "[1]  4001 10247 12017"
      ]
     },
     "metadata": {},
     "output_type": "display_data"
    }
   ],
   "source": [
    "sapply(detNodes$`treeClimbR(N)`,length)\n",
    "sapply(detNodes$trenDi,length)"
   ]
  },
  {
   "cell_type": "markdown",
   "id": "b2e4bb2f",
   "metadata": {},
   "source": [
    "#### Genes mapping to the trenDi nodes and their number"
   ]
  },
  {
   "cell_type": "code",
   "execution_count": 21,
   "id": "491ec0fa",
   "metadata": {},
   "outputs": [
    {
     "data": {
      "text/html": [
       "<style>\n",
       ".list-inline {list-style: none; margin:0; padding: 0}\n",
       ".list-inline>li {display: inline-block}\n",
       ".list-inline>li:not(:last-child)::after {content: \"\\00b7\"; padding: 0 .5ex}\n",
       "</style>\n",
       "<ol class=list-inline><li>3714</li><li>8661</li><li>9904</li></ol>\n"
      ],
      "text/latex": [
       "\\begin{enumerate*}\n",
       "\\item 3714\n",
       "\\item 8661\n",
       "\\item 9904\n",
       "\\end{enumerate*}\n"
      ],
      "text/markdown": [
       "1. 3714\n",
       "2. 8661\n",
       "3. 9904\n",
       "\n",
       "\n"
      ],
      "text/plain": [
       "[1] 3714 8661 9904"
      ]
     },
     "metadata": {},
     "output_type": "display_data"
    },
    {
     "data": {
      "text/plain": [
       "[[1]]\n",
       "\n",
       "   1    2 \n",
       "3943   58 \n",
       "\n",
       "[[2]]\n",
       "\n",
       "    1     2     3 \n",
       "10106   140     1 \n",
       "\n",
       "[[3]]\n",
       "\n",
       "    1     2     3 \n",
       "11842   174     1 \n"
      ]
     },
     "metadata": {},
     "output_type": "display_data"
    }
   ],
   "source": [
    "trenDiNodes <- detNodes[[\"trenDi\"]]\n",
    "genesTrenDi <- lapply(trenDiNodes, function(nodes) {\n",
    "    lapply(Descendants(treeCons,nodes), function(desc) unique(unlist(mapDf[treeCons$tip[desc],\"GENEID\"])))})\n",
    "sapply(genesTrenDi, function(genes) length(unique(unlist(genes)))) ## Number of genes mapping to treeDE nodes\n",
    "sapply(genesTrenDi, function(nodes) table(sapply(nodes,length))) ## Distribution of number of genes and nodes"
   ]
  },
  {
   "cell_type": "markdown",
   "id": "602f90bc",
   "metadata": {},
   "source": [
    "#### Genes that map only to trenDi but are neither DE or covered by differential transcripts"
   ]
  },
  {
   "cell_type": "code",
   "execution_count": 22,
   "id": "39ffb44c",
   "metadata": {},
   "outputs": [
    {
     "data": {
      "text/html": [
       "<style>\n",
       ".list-inline {list-style: none; margin:0; padding: 0}\n",
       ".list-inline>li {display: inline-block}\n",
       ".list-inline>li:not(:last-child)::after {content: \"\\00b7\"; padding: 0 .5ex}\n",
       "</style>\n",
       "<ol class=list-inline><li>485</li><li>318</li><li>365</li></ol>\n"
      ],
      "text/latex": [
       "\\begin{enumerate*}\n",
       "\\item 485\n",
       "\\item 318\n",
       "\\item 365\n",
       "\\end{enumerate*}\n"
      ],
      "text/markdown": [
       "1. 485\n",
       "2. 318\n",
       "3. 365\n",
       "\n",
       "\n"
      ],
      "text/plain": [
       "[1] 485 318 365"
      ]
     },
     "metadata": {},
     "output_type": "display_data"
    },
    {
     "data": {
      "text/html": [
       "<style>\n",
       ".list-inline {list-style: none; margin:0; padding: 0}\n",
       ".list-inline>li {display: inline-block}\n",
       ".list-inline>li:not(:last-child)::after {content: \"\\00b7\"; padding: 0 .5ex}\n",
       "</style>\n",
       "<ol class=list-inline><li>31</li><li>59</li><li>76</li></ol>\n"
      ],
      "text/latex": [
       "\\begin{enumerate*}\n",
       "\\item 31\n",
       "\\item 59\n",
       "\\item 76\n",
       "\\end{enumerate*}\n"
      ],
      "text/markdown": [
       "1. 31\n",
       "2. 59\n",
       "3. 76\n",
       "\n",
       "\n"
      ],
      "text/plain": [
       "[1] 31 59 76"
      ]
     },
     "metadata": {},
     "output_type": "display_data"
    }
   ],
   "source": [
    "### Nodes that dont cotain a DET\n",
    "ll <- lapply(seq_along(trenDiNodes), function(i) {\n",
    "    desc <- Descendants(treeCons, trenDiNodes[[i]])\n",
    "    which(sapply(desc, function(txps) sum(txps %in% detNodes[[\"Txps\"]][[i]]) == 0))\n",
    "})\n",
    "\n",
    "### Nodes that DO NOT contain a single DE gene\n",
    "sapply(ll, length)\n",
    "nodesNotDE <- lapply(seq_along(ll), function(i) {\n",
    "    genesL <- genesTrenDi[[i]][ll[[i]]]\n",
    "    ll[[i]][sapply(genesL, function(genes) sum(genes %in% dges[[i]]) == 0)]\n",
    "})\n",
    "sapply(nodesNotDE, length)"
   ]
  },
  {
   "cell_type": "markdown",
   "id": "770f87a2",
   "metadata": {},
   "source": [
    "#### Genes belonging to trenDi nodes that intersect with differentially expressed genes which do not a single differentially expressed transcript"
   ]
  },
  {
   "cell_type": "code",
   "execution_count": 23,
   "id": "f6a4ec2a",
   "metadata": {},
   "outputs": [
    {
     "data": {
      "text/html": [
       "<style>\n",
       ".list-inline {list-style: none; margin:0; padding: 0}\n",
       ".list-inline>li {display: inline-block}\n",
       ".list-inline>li:not(:last-child)::after {content: \"\\00b7\"; padding: 0 .5ex}\n",
       "</style>\n",
       "<ol class=list-inline><li>407</li><li>194</li><li>213</li></ol>\n"
      ],
      "text/latex": [
       "\\begin{enumerate*}\n",
       "\\item 407\n",
       "\\item 194\n",
       "\\item 213\n",
       "\\end{enumerate*}\n"
      ],
      "text/markdown": [
       "1. 407\n",
       "2. 194\n",
       "3. 213\n",
       "\n",
       "\n"
      ],
      "text/plain": [
       "[1] 407 194 213"
      ]
     },
     "metadata": {},
     "output_type": "display_data"
    }
   ],
   "source": [
    "trenDiDegNodes <- lapply(seq_along(genesTrenDi), function(i) {\n",
    "    which(sapply(genesTrenDi[[i]], function(gs) sum(gs %in% diffGenes[[i]]) > 0))\n",
    "})\n",
    "sapply(trenDiDegNodes,length)\n",
    "save(trenDiDegNodes, file=file.path(saveDir, \"trenDiDegNodes.RData\"))"
   ]
  },
  {
   "cell_type": "markdown",
   "id": "9a37ce5a",
   "metadata": {},
   "source": [
    "##### Distribution of genes mapped to by such nodes in trenDi"
   ]
  },
  {
   "cell_type": "code",
   "execution_count": 24,
   "id": "0469ddf7",
   "metadata": {},
   "outputs": [
    {
     "data": {
      "text/html": [
       "<table class=\"dataframe\">\n",
       "<caption>A matrix: 2 × 3 of type int</caption>\n",
       "<tbody>\n",
       "\t<tr><th scope=row>1</th><td>375</td><td>184</td><td>194</td></tr>\n",
       "\t<tr><th scope=row>2</th><td> 32</td><td> 10</td><td> 19</td></tr>\n",
       "</tbody>\n",
       "</table>\n"
      ],
      "text/latex": [
       "A matrix: 2 × 3 of type int\n",
       "\\begin{tabular}{r|lll}\n",
       "\t1 & 375 & 184 & 194\\\\\n",
       "\t2 &  32 &  10 &  19\\\\\n",
       "\\end{tabular}\n"
      ],
      "text/markdown": [
       "\n",
       "A matrix: 2 × 3 of type int\n",
       "\n",
       "| 1 | 375 | 184 | 194 |\n",
       "| 2 |  32 |  10 |  19 |\n",
       "\n"
      ],
      "text/plain": [
       "  [,1] [,2] [,3]\n",
       "1 375  184  194 \n",
       "2  32   10   19 "
      ]
     },
     "metadata": {},
     "output_type": "display_data"
    }
   ],
   "source": [
    "sapply(seq_along(trenDiDegNodes), function(i) {\n",
    "    table(sapply(genesTrenDi[[i]][trenDiDegNodes[[i]]], function(gs) length(gs)))\n",
    "})"
   ]
  }
 ],
 "metadata": {
  "kernelspec": {
   "display_name": "R",
   "language": "R",
   "name": "ir"
  },
  "language_info": {
   "codemirror_mode": "r",
   "file_extension": ".r",
   "mimetype": "text/x-r-source",
   "name": "R",
   "pygments_lexer": "r",
   "version": "4.1.1"
  }
 },
 "nbformat": 4,
 "nbformat_minor": 5
}
